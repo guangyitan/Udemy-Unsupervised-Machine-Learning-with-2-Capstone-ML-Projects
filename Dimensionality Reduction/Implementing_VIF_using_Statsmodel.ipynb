{
  "nbformat": 4,
  "nbformat_minor": 0,
  "metadata": {
    "colab": {
      "name": "Implementing VIF using Statsmodel.ipynb",
      "provenance": [],
      "collapsed_sections": [],
      "toc_visible": true,
      "authorship_tag": "ABX9TyNIN+ABqN0SQgHpJP2vFqBU",
      "include_colab_link": true
    },
    "kernelspec": {
      "name": "python3",
      "display_name": "Python 3"
    },
    "language_info": {
      "name": "python"
    }
  },
  "cells": [
    {
      "cell_type": "markdown",
      "metadata": {
        "id": "view-in-github",
        "colab_type": "text"
      },
      "source": [
        "<a href=\"https://colab.research.google.com/github/guangyitan/Udemy-Unsupervised-Machine-Learning-with-2-Capstone-ML-Projects/blob/main/Dimensionality%20Reduction/Implementing_VIF_using_Statsmodel.ipynb\" target=\"_parent\"><img src=\"https://colab.research.google.com/assets/colab-badge.svg\" alt=\"Open In Colab\"/></a>"
      ]
    },
    {
      "cell_type": "code",
      "metadata": {
        "id": "_5_OL3cNuMJR"
      },
      "source": [
        "import numpy as np\n",
        "import pandas as pd\n",
        "import matplotlib.pyplot as plt\n",
        "import seaborn as sns"
      ],
      "execution_count": 1,
      "outputs": []
    },
    {
      "cell_type": "code",
      "metadata": {
        "colab": {
          "base_uri": "https://localhost:8080/"
        },
        "id": "61WzbuapwerW",
        "outputId": "c76c03d5-db3f-4b8a-f719-3a2b712e183c"
      },
      "source": [
        "# mount to google drive\n",
        "from google.colab import drive \n",
        "drive.mount('/content/MyDrive')\n",
        "project_path = '/content/MyDrive/My Drive/Colab Notebooks/Udemy/Dimensionality Reduction/'\n",
        "\n",
        "#read the excel file\n",
        "data = pd.read_csv(project_path + \"Employee_Data.csv\")\n",
        "data.shape"
      ],
      "execution_count": 2,
      "outputs": [
        {
          "output_type": "stream",
          "text": [
            "Mounted at /content/MyDrive\n"
          ],
          "name": "stdout"
        },
        {
          "output_type": "execute_result",
          "data": {
            "text/plain": [
              "(1470, 35)"
            ]
          },
          "metadata": {
            "tags": []
          },
          "execution_count": 2
        }
      ]
    },
    {
      "cell_type": "code",
      "metadata": {
        "colab": {
          "base_uri": "https://localhost:8080/",
          "height": 309
        },
        "id": "YQsNBFAtFHMo",
        "outputId": "a3a5dc4a-51b6-4172-8f76-74f2f7d010e0"
      },
      "source": [
        "# Visualise the dataset\n",
        "\n",
        "# set num of columns to display\n",
        "pd.set_option('max_columns', 35)\n",
        "data.head()"
      ],
      "execution_count": 3,
      "outputs": [
        {
          "output_type": "execute_result",
          "data": {
            "text/html": [
              "<div>\n",
              "<style scoped>\n",
              "    .dataframe tbody tr th:only-of-type {\n",
              "        vertical-align: middle;\n",
              "    }\n",
              "\n",
              "    .dataframe tbody tr th {\n",
              "        vertical-align: top;\n",
              "    }\n",
              "\n",
              "    .dataframe thead th {\n",
              "        text-align: right;\n",
              "    }\n",
              "</style>\n",
              "<table border=\"1\" class=\"dataframe\">\n",
              "  <thead>\n",
              "    <tr style=\"text-align: right;\">\n",
              "      <th></th>\n",
              "      <th>Age</th>\n",
              "      <th>Attrition</th>\n",
              "      <th>BusinessTravel</th>\n",
              "      <th>DailyRate</th>\n",
              "      <th>Department</th>\n",
              "      <th>DistanceFromHome</th>\n",
              "      <th>Education</th>\n",
              "      <th>EducationField</th>\n",
              "      <th>EmployeeCount</th>\n",
              "      <th>EmployeeNumber</th>\n",
              "      <th>EnvironmentSatisfaction</th>\n",
              "      <th>Gender</th>\n",
              "      <th>HourlyRate</th>\n",
              "      <th>JobInvolvement</th>\n",
              "      <th>JobLevel</th>\n",
              "      <th>JobRole</th>\n",
              "      <th>JobSatisfaction</th>\n",
              "      <th>MaritalStatus</th>\n",
              "      <th>MonthlyIncome</th>\n",
              "      <th>MonthlyRate</th>\n",
              "      <th>NumCompaniesWorked</th>\n",
              "      <th>Over18</th>\n",
              "      <th>OverTime</th>\n",
              "      <th>PercentSalaryHike</th>\n",
              "      <th>PerformanceRating</th>\n",
              "      <th>RelationshipSatisfaction</th>\n",
              "      <th>StandardHours</th>\n",
              "      <th>StockOptionLevel</th>\n",
              "      <th>TotalWorkingYears</th>\n",
              "      <th>TrainingTimesLastYear</th>\n",
              "      <th>WorkLifeBalance</th>\n",
              "      <th>YearsAtCompany</th>\n",
              "      <th>YearsInCurrentRole</th>\n",
              "      <th>YearsSinceLastPromotion</th>\n",
              "      <th>YearsWithCurrManager</th>\n",
              "    </tr>\n",
              "  </thead>\n",
              "  <tbody>\n",
              "    <tr>\n",
              "      <th>0</th>\n",
              "      <td>41</td>\n",
              "      <td>Yes</td>\n",
              "      <td>Travel_Rarely</td>\n",
              "      <td>1102</td>\n",
              "      <td>Sales</td>\n",
              "      <td>1</td>\n",
              "      <td>2</td>\n",
              "      <td>Life Sciences</td>\n",
              "      <td>1</td>\n",
              "      <td>1</td>\n",
              "      <td>2</td>\n",
              "      <td>Female</td>\n",
              "      <td>94</td>\n",
              "      <td>3</td>\n",
              "      <td>2</td>\n",
              "      <td>Sales Executive</td>\n",
              "      <td>4</td>\n",
              "      <td>Single</td>\n",
              "      <td>5993</td>\n",
              "      <td>19479</td>\n",
              "      <td>8</td>\n",
              "      <td>Y</td>\n",
              "      <td>Yes</td>\n",
              "      <td>11</td>\n",
              "      <td>3</td>\n",
              "      <td>1</td>\n",
              "      <td>80</td>\n",
              "      <td>0</td>\n",
              "      <td>8</td>\n",
              "      <td>0</td>\n",
              "      <td>1</td>\n",
              "      <td>6</td>\n",
              "      <td>4</td>\n",
              "      <td>0</td>\n",
              "      <td>5</td>\n",
              "    </tr>\n",
              "    <tr>\n",
              "      <th>1</th>\n",
              "      <td>49</td>\n",
              "      <td>No</td>\n",
              "      <td>Travel_Frequently</td>\n",
              "      <td>279</td>\n",
              "      <td>Research &amp; Development</td>\n",
              "      <td>8</td>\n",
              "      <td>1</td>\n",
              "      <td>Life Sciences</td>\n",
              "      <td>1</td>\n",
              "      <td>2</td>\n",
              "      <td>3</td>\n",
              "      <td>Male</td>\n",
              "      <td>61</td>\n",
              "      <td>2</td>\n",
              "      <td>2</td>\n",
              "      <td>Research Scientist</td>\n",
              "      <td>2</td>\n",
              "      <td>Married</td>\n",
              "      <td>5130</td>\n",
              "      <td>24907</td>\n",
              "      <td>1</td>\n",
              "      <td>Y</td>\n",
              "      <td>No</td>\n",
              "      <td>23</td>\n",
              "      <td>4</td>\n",
              "      <td>4</td>\n",
              "      <td>80</td>\n",
              "      <td>1</td>\n",
              "      <td>10</td>\n",
              "      <td>3</td>\n",
              "      <td>3</td>\n",
              "      <td>10</td>\n",
              "      <td>7</td>\n",
              "      <td>1</td>\n",
              "      <td>7</td>\n",
              "    </tr>\n",
              "    <tr>\n",
              "      <th>2</th>\n",
              "      <td>37</td>\n",
              "      <td>Yes</td>\n",
              "      <td>Travel_Rarely</td>\n",
              "      <td>1373</td>\n",
              "      <td>Research &amp; Development</td>\n",
              "      <td>2</td>\n",
              "      <td>2</td>\n",
              "      <td>Other</td>\n",
              "      <td>1</td>\n",
              "      <td>4</td>\n",
              "      <td>4</td>\n",
              "      <td>Male</td>\n",
              "      <td>92</td>\n",
              "      <td>2</td>\n",
              "      <td>1</td>\n",
              "      <td>Laboratory Technician</td>\n",
              "      <td>3</td>\n",
              "      <td>Single</td>\n",
              "      <td>2090</td>\n",
              "      <td>2396</td>\n",
              "      <td>6</td>\n",
              "      <td>Y</td>\n",
              "      <td>Yes</td>\n",
              "      <td>15</td>\n",
              "      <td>3</td>\n",
              "      <td>2</td>\n",
              "      <td>80</td>\n",
              "      <td>0</td>\n",
              "      <td>7</td>\n",
              "      <td>3</td>\n",
              "      <td>3</td>\n",
              "      <td>0</td>\n",
              "      <td>0</td>\n",
              "      <td>0</td>\n",
              "      <td>0</td>\n",
              "    </tr>\n",
              "    <tr>\n",
              "      <th>3</th>\n",
              "      <td>33</td>\n",
              "      <td>No</td>\n",
              "      <td>Travel_Frequently</td>\n",
              "      <td>1392</td>\n",
              "      <td>Research &amp; Development</td>\n",
              "      <td>3</td>\n",
              "      <td>4</td>\n",
              "      <td>Life Sciences</td>\n",
              "      <td>1</td>\n",
              "      <td>5</td>\n",
              "      <td>4</td>\n",
              "      <td>Female</td>\n",
              "      <td>56</td>\n",
              "      <td>3</td>\n",
              "      <td>1</td>\n",
              "      <td>Research Scientist</td>\n",
              "      <td>3</td>\n",
              "      <td>Married</td>\n",
              "      <td>2909</td>\n",
              "      <td>23159</td>\n",
              "      <td>1</td>\n",
              "      <td>Y</td>\n",
              "      <td>Yes</td>\n",
              "      <td>11</td>\n",
              "      <td>3</td>\n",
              "      <td>3</td>\n",
              "      <td>80</td>\n",
              "      <td>0</td>\n",
              "      <td>8</td>\n",
              "      <td>3</td>\n",
              "      <td>3</td>\n",
              "      <td>8</td>\n",
              "      <td>7</td>\n",
              "      <td>3</td>\n",
              "      <td>0</td>\n",
              "    </tr>\n",
              "    <tr>\n",
              "      <th>4</th>\n",
              "      <td>27</td>\n",
              "      <td>No</td>\n",
              "      <td>Travel_Rarely</td>\n",
              "      <td>591</td>\n",
              "      <td>Research &amp; Development</td>\n",
              "      <td>2</td>\n",
              "      <td>1</td>\n",
              "      <td>Medical</td>\n",
              "      <td>1</td>\n",
              "      <td>7</td>\n",
              "      <td>1</td>\n",
              "      <td>Male</td>\n",
              "      <td>40</td>\n",
              "      <td>3</td>\n",
              "      <td>1</td>\n",
              "      <td>Laboratory Technician</td>\n",
              "      <td>2</td>\n",
              "      <td>Married</td>\n",
              "      <td>3468</td>\n",
              "      <td>16632</td>\n",
              "      <td>9</td>\n",
              "      <td>Y</td>\n",
              "      <td>No</td>\n",
              "      <td>12</td>\n",
              "      <td>3</td>\n",
              "      <td>4</td>\n",
              "      <td>80</td>\n",
              "      <td>1</td>\n",
              "      <td>6</td>\n",
              "      <td>3</td>\n",
              "      <td>3</td>\n",
              "      <td>2</td>\n",
              "      <td>2</td>\n",
              "      <td>2</td>\n",
              "      <td>2</td>\n",
              "    </tr>\n",
              "  </tbody>\n",
              "</table>\n",
              "</div>"
            ],
            "text/plain": [
              "   Age Attrition     BusinessTravel  DailyRate              Department  \\\n",
              "0   41       Yes      Travel_Rarely       1102                   Sales   \n",
              "1   49        No  Travel_Frequently        279  Research & Development   \n",
              "2   37       Yes      Travel_Rarely       1373  Research & Development   \n",
              "3   33        No  Travel_Frequently       1392  Research & Development   \n",
              "4   27        No      Travel_Rarely        591  Research & Development   \n",
              "\n",
              "   DistanceFromHome  Education EducationField  EmployeeCount  EmployeeNumber  \\\n",
              "0                 1          2  Life Sciences              1               1   \n",
              "1                 8          1  Life Sciences              1               2   \n",
              "2                 2          2          Other              1               4   \n",
              "3                 3          4  Life Sciences              1               5   \n",
              "4                 2          1        Medical              1               7   \n",
              "\n",
              "   EnvironmentSatisfaction  Gender  HourlyRate  JobInvolvement  JobLevel  \\\n",
              "0                        2  Female          94               3         2   \n",
              "1                        3    Male          61               2         2   \n",
              "2                        4    Male          92               2         1   \n",
              "3                        4  Female          56               3         1   \n",
              "4                        1    Male          40               3         1   \n",
              "\n",
              "                 JobRole  JobSatisfaction MaritalStatus  MonthlyIncome  \\\n",
              "0        Sales Executive                4        Single           5993   \n",
              "1     Research Scientist                2       Married           5130   \n",
              "2  Laboratory Technician                3        Single           2090   \n",
              "3     Research Scientist                3       Married           2909   \n",
              "4  Laboratory Technician                2       Married           3468   \n",
              "\n",
              "   MonthlyRate  NumCompaniesWorked Over18 OverTime  PercentSalaryHike  \\\n",
              "0        19479                   8      Y      Yes                 11   \n",
              "1        24907                   1      Y       No                 23   \n",
              "2         2396                   6      Y      Yes                 15   \n",
              "3        23159                   1      Y      Yes                 11   \n",
              "4        16632                   9      Y       No                 12   \n",
              "\n",
              "   PerformanceRating  RelationshipSatisfaction  StandardHours  \\\n",
              "0                  3                         1             80   \n",
              "1                  4                         4             80   \n",
              "2                  3                         2             80   \n",
              "3                  3                         3             80   \n",
              "4                  3                         4             80   \n",
              "\n",
              "   StockOptionLevel  TotalWorkingYears  TrainingTimesLastYear  \\\n",
              "0                 0                  8                      0   \n",
              "1                 1                 10                      3   \n",
              "2                 0                  7                      3   \n",
              "3                 0                  8                      3   \n",
              "4                 1                  6                      3   \n",
              "\n",
              "   WorkLifeBalance  YearsAtCompany  YearsInCurrentRole  \\\n",
              "0                1               6                   4   \n",
              "1                3              10                   7   \n",
              "2                3               0                   0   \n",
              "3                3               8                   7   \n",
              "4                3               2                   2   \n",
              "\n",
              "   YearsSinceLastPromotion  YearsWithCurrManager  \n",
              "0                        0                     5  \n",
              "1                        1                     7  \n",
              "2                        0                     0  \n",
              "3                        3                     0  \n",
              "4                        2                     2  "
            ]
          },
          "metadata": {
            "tags": []
          },
          "execution_count": 3
        }
      ]
    },
    {
      "cell_type": "markdown",
      "metadata": {
        "id": "I4JwFb6lzKFL"
      },
      "source": [
        "# Removing Usless Columns"
      ]
    },
    {
      "cell_type": "code",
      "metadata": {
        "colab": {
          "base_uri": "https://localhost:8080/"
        },
        "id": "hYFhMCRFEqPd",
        "outputId": "54bcf7eb-07aa-4f07-bd30-37e00fb118a9"
      },
      "source": [
        "# look for useless columns\n",
        "\n",
        "print(\"Number of Records in the Dataset: \", data.shape[0])\n",
        "print(\"Number of Unique Values in EmployeeCount Column: \", data['EmployeeCount'].nunique())\n",
        "print(\"Number of Unique Values in EmployeeNumber Column: \", data['EmployeeNumber'].nunique())\n",
        "print(\"Number of Unique Values in Over18 Column: \", data['Over18'].nunique())\n",
        "print(\"Number of Unique Values in StandardHours Column: \", data['StandardHours'].nunique())\n"
      ],
      "execution_count": 4,
      "outputs": [
        {
          "output_type": "stream",
          "text": [
            "Number of Records in the Dataset:  1470\n",
            "Number of Unique Values in EmployeeCount Column:  1\n",
            "Number of Unique Values in EmployeeNumber Column:  1470\n",
            "Number of Unique Values in Over18 Column:  1\n",
            "Number of Unique Values in StandardHours Column:  1\n"
          ],
          "name": "stdout"
        }
      ]
    },
    {
      "cell_type": "markdown",
      "metadata": {
        "id": "_xz97s4GypPZ"
      },
      "source": [
        "For EmployeeNumber Column, each row has unique values in all records.\n",
        "\n",
        "For EmployeeCount, Over18 and StandardHours Columns, they have only one unique value in all records.\n",
        "\n",
        "These columns are useless as they do not have any trends or patterns which can be used for predictive analytics."
      ]
    },
    {
      "cell_type": "code",
      "metadata": {
        "colab": {
          "base_uri": "https://localhost:8080/"
        },
        "id": "oXxSKsX1aqva",
        "outputId": "35b34f38-c85a-4973-fdf6-7ae900db117f"
      },
      "source": [
        "# remove the useless columns from the dataset\n",
        "\n",
        "data = data.drop(['EmployeeCount', 'EmployeeNumber', 'Over18', 'StandardHours'], axis = 1)\n",
        "print(\"Number of Columns left: \", data.shape[1])"
      ],
      "execution_count": 5,
      "outputs": [
        {
          "output_type": "stream",
          "text": [
            "Number of Columns left:  31\n"
          ],
          "name": "stdout"
        }
      ]
    },
    {
      "cell_type": "code",
      "metadata": {
        "colab": {
          "base_uri": "https://localhost:8080/"
        },
        "id": "_X2ONj_2zys8",
        "outputId": "f800a849-8821-4201-b9c0-cdc4c6deecec"
      },
      "source": [
        "# check for Missing values in the dataset\n",
        "data.isnull().sum().sum()"
      ],
      "execution_count": 6,
      "outputs": [
        {
          "output_type": "execute_result",
          "data": {
            "text/plain": [
              "0"
            ]
          },
          "metadata": {
            "tags": []
          },
          "execution_count": 6
        }
      ]
    },
    {
      "cell_type": "markdown",
      "metadata": {
        "id": "c-JY63jc1E1M"
      },
      "source": [
        "There are no null/ missing values in the dataset"
      ]
    },
    {
      "cell_type": "code",
      "metadata": {
        "colab": {
          "base_uri": "https://localhost:8080/",
          "height": 204
        },
        "id": "PmC4Qr7Q0_3o",
        "outputId": "984a4f90-1d3e-4614-bbbd-6f1a1e2a1410"
      },
      "source": [
        "# check for columns with Object Data Type\n",
        "data.select_dtypes('object').head()"
      ],
      "execution_count": 7,
      "outputs": [
        {
          "output_type": "execute_result",
          "data": {
            "text/html": [
              "<div>\n",
              "<style scoped>\n",
              "    .dataframe tbody tr th:only-of-type {\n",
              "        vertical-align: middle;\n",
              "    }\n",
              "\n",
              "    .dataframe tbody tr th {\n",
              "        vertical-align: top;\n",
              "    }\n",
              "\n",
              "    .dataframe thead th {\n",
              "        text-align: right;\n",
              "    }\n",
              "</style>\n",
              "<table border=\"1\" class=\"dataframe\">\n",
              "  <thead>\n",
              "    <tr style=\"text-align: right;\">\n",
              "      <th></th>\n",
              "      <th>Attrition</th>\n",
              "      <th>BusinessTravel</th>\n",
              "      <th>Department</th>\n",
              "      <th>EducationField</th>\n",
              "      <th>Gender</th>\n",
              "      <th>JobRole</th>\n",
              "      <th>MaritalStatus</th>\n",
              "      <th>OverTime</th>\n",
              "    </tr>\n",
              "  </thead>\n",
              "  <tbody>\n",
              "    <tr>\n",
              "      <th>0</th>\n",
              "      <td>Yes</td>\n",
              "      <td>Travel_Rarely</td>\n",
              "      <td>Sales</td>\n",
              "      <td>Life Sciences</td>\n",
              "      <td>Female</td>\n",
              "      <td>Sales Executive</td>\n",
              "      <td>Single</td>\n",
              "      <td>Yes</td>\n",
              "    </tr>\n",
              "    <tr>\n",
              "      <th>1</th>\n",
              "      <td>No</td>\n",
              "      <td>Travel_Frequently</td>\n",
              "      <td>Research &amp; Development</td>\n",
              "      <td>Life Sciences</td>\n",
              "      <td>Male</td>\n",
              "      <td>Research Scientist</td>\n",
              "      <td>Married</td>\n",
              "      <td>No</td>\n",
              "    </tr>\n",
              "    <tr>\n",
              "      <th>2</th>\n",
              "      <td>Yes</td>\n",
              "      <td>Travel_Rarely</td>\n",
              "      <td>Research &amp; Development</td>\n",
              "      <td>Other</td>\n",
              "      <td>Male</td>\n",
              "      <td>Laboratory Technician</td>\n",
              "      <td>Single</td>\n",
              "      <td>Yes</td>\n",
              "    </tr>\n",
              "    <tr>\n",
              "      <th>3</th>\n",
              "      <td>No</td>\n",
              "      <td>Travel_Frequently</td>\n",
              "      <td>Research &amp; Development</td>\n",
              "      <td>Life Sciences</td>\n",
              "      <td>Female</td>\n",
              "      <td>Research Scientist</td>\n",
              "      <td>Married</td>\n",
              "      <td>Yes</td>\n",
              "    </tr>\n",
              "    <tr>\n",
              "      <th>4</th>\n",
              "      <td>No</td>\n",
              "      <td>Travel_Rarely</td>\n",
              "      <td>Research &amp; Development</td>\n",
              "      <td>Medical</td>\n",
              "      <td>Male</td>\n",
              "      <td>Laboratory Technician</td>\n",
              "      <td>Married</td>\n",
              "      <td>No</td>\n",
              "    </tr>\n",
              "  </tbody>\n",
              "</table>\n",
              "</div>"
            ],
            "text/plain": [
              "  Attrition     BusinessTravel              Department EducationField  Gender  \\\n",
              "0       Yes      Travel_Rarely                   Sales  Life Sciences  Female   \n",
              "1        No  Travel_Frequently  Research & Development  Life Sciences    Male   \n",
              "2       Yes      Travel_Rarely  Research & Development          Other    Male   \n",
              "3        No  Travel_Frequently  Research & Development  Life Sciences  Female   \n",
              "4        No      Travel_Rarely  Research & Development        Medical    Male   \n",
              "\n",
              "                 JobRole MaritalStatus OverTime  \n",
              "0        Sales Executive        Single      Yes  \n",
              "1     Research Scientist       Married       No  \n",
              "2  Laboratory Technician        Single      Yes  \n",
              "3     Research Scientist       Married      Yes  \n",
              "4  Laboratory Technician       Married       No  "
            ]
          },
          "metadata": {
            "tags": []
          },
          "execution_count": 7
        }
      ]
    },
    {
      "cell_type": "markdown",
      "metadata": {
        "id": "mxXG4D229pIW"
      },
      "source": [
        "# Encode Object Type Data into Numerical Type Data"
      ]
    },
    {
      "cell_type": "code",
      "metadata": {
        "colab": {
          "base_uri": "https://localhost:8080/"
        },
        "id": "BueDP8TL1WQO",
        "outputId": "1d373051-c4ff-462a-9ed3-d56fac0f3fdb"
      },
      "source": [
        "# Encode the Object Type data into Numerical Data Type\n",
        "# Attrition Column is excluded as it is our Target Column\n",
        "# For Attrition Column, if 'Yes', employee will leave the organization in near future\n",
        "# For Attrition Column, if 'NO', employee will not leave the organization in near future\n",
        "\n",
        "from sklearn.preprocessing import LabelEncoder\n",
        "\n",
        "le = LabelEncoder()\n",
        "data['BusinessTravel'] = le.fit_transform(data['BusinessTravel'])\n",
        "data['Department'] = le.fit_transform(data['Department'])\n",
        "data['EducationField'] = le.fit_transform(data['EducationField'])\n",
        "data['Gender'] = le.fit_transform(data['Gender'])\n",
        "data['JobRole'] = le.fit_transform(data['JobRole'])\n",
        "data['MaritalStatus'] = le.fit_transform(data['MaritalStatus'])\n",
        "data['OverTime'] = le.fit_transform(data['OverTime'])\n",
        "\n",
        "# double check to ensure all object data type are converted\n",
        "data.select_dtypes('object').columns"
      ],
      "execution_count": 8,
      "outputs": [
        {
          "output_type": "execute_result",
          "data": {
            "text/plain": [
              "Index(['Attrition'], dtype='object')"
            ]
          },
          "metadata": {
            "tags": []
          },
          "execution_count": 8
        }
      ]
    },
    {
      "cell_type": "code",
      "metadata": {
        "colab": {
          "base_uri": "https://localhost:8080/"
        },
        "id": "KROA9C945-Oo",
        "outputId": "7133ffa0-a885-4557-8bf6-32654ef24eb9"
      },
      "source": [
        "# Split dataset into x and y\n",
        "\n",
        "# axis = 0 means along row\n",
        "# axis = 1 means along column\n",
        "x = data.drop(['Attrition'], axis = 1)\n",
        "y = pd.DataFrame(data['Attrition'], columns = ['Attrition'])\n",
        "\n",
        "print(\"shape of x\", x.shape)\n",
        "print(\"shape of y\", y.shape)"
      ],
      "execution_count": 9,
      "outputs": [
        {
          "output_type": "stream",
          "text": [
            "shape of x (1470, 30)\n",
            "shape of y (1470, 1)\n"
          ],
          "name": "stdout"
        }
      ]
    },
    {
      "cell_type": "markdown",
      "metadata": {
        "id": "jQhYwmBWN3Zj"
      },
      "source": [
        "# Implementing VIF"
      ]
    },
    {
      "cell_type": "code",
      "metadata": {
        "colab": {
          "base_uri": "https://localhost:8080/",
          "height": 670
        },
        "id": "z9S9I1nSNvrW",
        "outputId": "29b985df-390d-4b2c-a1c8-9202fb681ad2"
      },
      "source": [
        "from statsmodels.stats.outliers_influence import variance_inflation_factor\n",
        "\n",
        "# define VIF Dataframe\n",
        "vif_data = pd.DataFrame()\n",
        "vif_data['feature'] = x.columns\n",
        "\n",
        "# calculate VIF for each feature\n",
        "vif_data[\"VIF\"] = [variance_inflation_factor(x.values, i) for i in range(len(x.columns))]\n",
        "\n",
        "vif_data.style.background_gradient(cmap = 'Wistia')"
      ],
      "execution_count": 13,
      "outputs": [
        {
          "output_type": "execute_result",
          "data": {
            "text/html": [
              "<style  type=\"text/css\" >\n",
              "#T_9ec3de3a_f34e_11eb_ba94_0242ac1c0002row0_col1{\n",
              "            background-color:  #ffe619;\n",
              "            color:  #000000;\n",
              "        }#T_9ec3de3a_f34e_11eb_ba94_0242ac1c0002row1_col1,#T_9ec3de3a_f34e_11eb_ba94_0242ac1c0002row13_col1{\n",
              "            background-color:  #e9fb69;\n",
              "            color:  #000000;\n",
              "        }#T_9ec3de3a_f34e_11eb_ba94_0242ac1c0002row2_col1,#T_9ec3de3a_f34e_11eb_ba94_0242ac1c0002row16_col1{\n",
              "            background-color:  #e7fc6f;\n",
              "            color:  #000000;\n",
              "        }#T_9ec3de3a_f34e_11eb_ba94_0242ac1c0002row3_col1{\n",
              "            background-color:  #eef656;\n",
              "            color:  #000000;\n",
              "        }#T_9ec3de3a_f34e_11eb_ba94_0242ac1c0002row4_col1{\n",
              "            background-color:  #e4ff78;\n",
              "            color:  #000000;\n",
              "        }#T_9ec3de3a_f34e_11eb_ba94_0242ac1c0002row5_col1{\n",
              "            background-color:  #ebf962;\n",
              "            color:  #000000;\n",
              "        }#T_9ec3de3a_f34e_11eb_ba94_0242ac1c0002row6_col1{\n",
              "            background-color:  #e6fd72;\n",
              "            color:  #000000;\n",
              "        }#T_9ec3de3a_f34e_11eb_ba94_0242ac1c0002row7_col1,#T_9ec3de3a_f34e_11eb_ba94_0242ac1c0002row21_col1{\n",
              "            background-color:  #e9fb68;\n",
              "            color:  #000000;\n",
              "        }#T_9ec3de3a_f34e_11eb_ba94_0242ac1c0002row8_col1,#T_9ec3de3a_f34e_11eb_ba94_0242ac1c0002row17_col1,#T_9ec3de3a_f34e_11eb_ba94_0242ac1c0002row28_col1{\n",
              "            background-color:  #e5fe77;\n",
              "            color:  #000000;\n",
              "        }#T_9ec3de3a_f34e_11eb_ba94_0242ac1c0002row9_col1{\n",
              "            background-color:  #ecf85c;\n",
              "            color:  #000000;\n",
              "        }#T_9ec3de3a_f34e_11eb_ba94_0242ac1c0002row10_col1{\n",
              "            background-color:  #f0f550;\n",
              "            color:  #000000;\n",
              "        }#T_9ec3de3a_f34e_11eb_ba94_0242ac1c0002row11_col1{\n",
              "            background-color:  #ffca08;\n",
              "            color:  #000000;\n",
              "        }#T_9ec3de3a_f34e_11eb_ba94_0242ac1c0002row12_col1{\n",
              "            background-color:  #eafa65;\n",
              "            color:  #000000;\n",
              "        }#T_9ec3de3a_f34e_11eb_ba94_0242ac1c0002row14_col1,#T_9ec3de3a_f34e_11eb_ba94_0242ac1c0002row24_col1{\n",
              "            background-color:  #e8fc6c;\n",
              "            color:  #000000;\n",
              "        }#T_9ec3de3a_f34e_11eb_ba94_0242ac1c0002row15_col1{\n",
              "            background-color:  #ffe81a;\n",
              "            color:  #000000;\n",
              "        }#T_9ec3de3a_f34e_11eb_ba94_0242ac1c0002row18_col1{\n",
              "            background-color:  #e4ff7a;\n",
              "            color:  #000000;\n",
              "        }#T_9ec3de3a_f34e_11eb_ba94_0242ac1c0002row19_col1{\n",
              "            background-color:  #ffd911;\n",
              "            color:  #000000;\n",
              "        }#T_9ec3de3a_f34e_11eb_ba94_0242ac1c0002row20_col1{\n",
              "            background-color:  #fc7f00;\n",
              "            color:  #000000;\n",
              "        }#T_9ec3de3a_f34e_11eb_ba94_0242ac1c0002row22_col1{\n",
              "            background-color:  #e6fe74;\n",
              "            color:  #000000;\n",
              "        }#T_9ec3de3a_f34e_11eb_ba94_0242ac1c0002row23_col1{\n",
              "            background-color:  #eff551;\n",
              "            color:  #000000;\n",
              "        }#T_9ec3de3a_f34e_11eb_ba94_0242ac1c0002row25_col1{\n",
              "            background-color:  #f0f54e;\n",
              "            color:  #000000;\n",
              "        }#T_9ec3de3a_f34e_11eb_ba94_0242ac1c0002row26_col1{\n",
              "            background-color:  #ecf85d;\n",
              "            color:  #000000;\n",
              "        }#T_9ec3de3a_f34e_11eb_ba94_0242ac1c0002row27_col1,#T_9ec3de3a_f34e_11eb_ba94_0242ac1c0002row29_col1{\n",
              "            background-color:  #e8fb6b;\n",
              "            color:  #000000;\n",
              "        }</style><table id=\"T_9ec3de3a_f34e_11eb_ba94_0242ac1c0002\" ><thead>    <tr>        <th class=\"blank level0\" ></th>        <th class=\"col_heading level0 col0\" >feature</th>        <th class=\"col_heading level0 col1\" >VIF</th>    </tr></thead><tbody>\n",
              "                <tr>\n",
              "                        <th id=\"T_9ec3de3a_f34e_11eb_ba94_0242ac1c0002level0_row0\" class=\"row_heading level0 row0\" >0</th>\n",
              "                        <td id=\"T_9ec3de3a_f34e_11eb_ba94_0242ac1c0002row0_col0\" class=\"data row0 col0\" >Age</td>\n",
              "                        <td id=\"T_9ec3de3a_f34e_11eb_ba94_0242ac1c0002row0_col1\" class=\"data row0 col1\" >33.303362</td>\n",
              "            </tr>\n",
              "            <tr>\n",
              "                        <th id=\"T_9ec3de3a_f34e_11eb_ba94_0242ac1c0002level0_row1\" class=\"row_heading level0 row1\" >1</th>\n",
              "                        <td id=\"T_9ec3de3a_f34e_11eb_ba94_0242ac1c0002row1_col0\" class=\"data row1 col0\" >BusinessTravel</td>\n",
              "                        <td id=\"T_9ec3de3a_f34e_11eb_ba94_0242ac1c0002row1_col1\" class=\"data row1 col1\" >6.744873</td>\n",
              "            </tr>\n",
              "            <tr>\n",
              "                        <th id=\"T_9ec3de3a_f34e_11eb_ba94_0242ac1c0002level0_row2\" class=\"row_heading level0 row2\" >2</th>\n",
              "                        <td id=\"T_9ec3de3a_f34e_11eb_ba94_0242ac1c0002row2_col0\" class=\"data row2 col0\" >DailyRate</td>\n",
              "                        <td id=\"T_9ec3de3a_f34e_11eb_ba94_0242ac1c0002row2_col1\" class=\"data row2 col1\" >4.973985</td>\n",
              "            </tr>\n",
              "            <tr>\n",
              "                        <th id=\"T_9ec3de3a_f34e_11eb_ba94_0242ac1c0002level0_row3\" class=\"row_heading level0 row3\" >3</th>\n",
              "                        <td id=\"T_9ec3de3a_f34e_11eb_ba94_0242ac1c0002row3_col0\" class=\"data row3 col0\" >Department</td>\n",
              "                        <td id=\"T_9ec3de3a_f34e_11eb_ba94_0242ac1c0002row3_col1\" class=\"data row3 col1\" >12.973418</td>\n",
              "            </tr>\n",
              "            <tr>\n",
              "                        <th id=\"T_9ec3de3a_f34e_11eb_ba94_0242ac1c0002level0_row4\" class=\"row_heading level0 row4\" >4</th>\n",
              "                        <td id=\"T_9ec3de3a_f34e_11eb_ba94_0242ac1c0002row4_col0\" class=\"data row4 col0\" >DistanceFromHome</td>\n",
              "                        <td id=\"T_9ec3de3a_f34e_11eb_ba94_0242ac1c0002row4_col1\" class=\"data row4 col1\" >2.317141</td>\n",
              "            </tr>\n",
              "            <tr>\n",
              "                        <th id=\"T_9ec3de3a_f34e_11eb_ba94_0242ac1c0002level0_row5\" class=\"row_heading level0 row5\" >5</th>\n",
              "                        <td id=\"T_9ec3de3a_f34e_11eb_ba94_0242ac1c0002row5_col0\" class=\"data row5 col0\" >Education</td>\n",
              "                        <td id=\"T_9ec3de3a_f34e_11eb_ba94_0242ac1c0002row5_col1\" class=\"data row5 col1\" >9.453687</td>\n",
              "            </tr>\n",
              "            <tr>\n",
              "                        <th id=\"T_9ec3de3a_f34e_11eb_ba94_0242ac1c0002level0_row6\" class=\"row_heading level0 row6\" >6</th>\n",
              "                        <td id=\"T_9ec3de3a_f34e_11eb_ba94_0242ac1c0002row6_col0\" class=\"data row6 col0\" >EducationField</td>\n",
              "                        <td id=\"T_9ec3de3a_f34e_11eb_ba94_0242ac1c0002row6_col1\" class=\"data row6 col1\" >3.866745</td>\n",
              "            </tr>\n",
              "            <tr>\n",
              "                        <th id=\"T_9ec3de3a_f34e_11eb_ba94_0242ac1c0002level0_row7\" class=\"row_heading level0 row7\" >7</th>\n",
              "                        <td id=\"T_9ec3de3a_f34e_11eb_ba94_0242ac1c0002row7_col0\" class=\"data row7 col0\" >EnvironmentSatisfaction</td>\n",
              "                        <td id=\"T_9ec3de3a_f34e_11eb_ba94_0242ac1c0002row7_col1\" class=\"data row7 col1\" >7.109660</td>\n",
              "            </tr>\n",
              "            <tr>\n",
              "                        <th id=\"T_9ec3de3a_f34e_11eb_ba94_0242ac1c0002level0_row8\" class=\"row_heading level0 row8\" >8</th>\n",
              "                        <td id=\"T_9ec3de3a_f34e_11eb_ba94_0242ac1c0002row8_col0\" class=\"data row8 col0\" >Gender</td>\n",
              "                        <td id=\"T_9ec3de3a_f34e_11eb_ba94_0242ac1c0002row8_col1\" class=\"data row8 col1\" >2.506220</td>\n",
              "            </tr>\n",
              "            <tr>\n",
              "                        <th id=\"T_9ec3de3a_f34e_11eb_ba94_0242ac1c0002level0_row9\" class=\"row_heading level0 row9\" >9</th>\n",
              "                        <td id=\"T_9ec3de3a_f34e_11eb_ba94_0242ac1c0002row9_col0\" class=\"data row9 col0\" >HourlyRate</td>\n",
              "                        <td id=\"T_9ec3de3a_f34e_11eb_ba94_0242ac1c0002row9_col1\" class=\"data row9 col1\" >11.244053</td>\n",
              "            </tr>\n",
              "            <tr>\n",
              "                        <th id=\"T_9ec3de3a_f34e_11eb_ba94_0242ac1c0002level0_row10\" class=\"row_heading level0 row10\" >10</th>\n",
              "                        <td id=\"T_9ec3de3a_f34e_11eb_ba94_0242ac1c0002row10_col0\" class=\"data row10 col0\" >JobInvolvement</td>\n",
              "                        <td id=\"T_9ec3de3a_f34e_11eb_ba94_0242ac1c0002row10_col1\" class=\"data row10 col1\" >15.098622</td>\n",
              "            </tr>\n",
              "            <tr>\n",
              "                        <th id=\"T_9ec3de3a_f34e_11eb_ba94_0242ac1c0002level0_row11\" class=\"row_heading level0 row11\" >11</th>\n",
              "                        <td id=\"T_9ec3de3a_f34e_11eb_ba94_0242ac1c0002row11_col0\" class=\"data row11 col0\" >JobLevel</td>\n",
              "                        <td id=\"T_9ec3de3a_f34e_11eb_ba94_0242ac1c0002row11_col1\" class=\"data row11 col1\" >52.565598</td>\n",
              "            </tr>\n",
              "            <tr>\n",
              "                        <th id=\"T_9ec3de3a_f34e_11eb_ba94_0242ac1c0002level0_row12\" class=\"row_heading level0 row12\" >12</th>\n",
              "                        <td id=\"T_9ec3de3a_f34e_11eb_ba94_0242ac1c0002row12_col0\" class=\"data row12 col0\" >JobRole</td>\n",
              "                        <td id=\"T_9ec3de3a_f34e_11eb_ba94_0242ac1c0002row12_col1\" class=\"data row12 col1\" >8.078981</td>\n",
              "            </tr>\n",
              "            <tr>\n",
              "                        <th id=\"T_9ec3de3a_f34e_11eb_ba94_0242ac1c0002level0_row13\" class=\"row_heading level0 row13\" >13</th>\n",
              "                        <td id=\"T_9ec3de3a_f34e_11eb_ba94_0242ac1c0002row13_col0\" class=\"data row13 col0\" >JobSatisfaction</td>\n",
              "                        <td id=\"T_9ec3de3a_f34e_11eb_ba94_0242ac1c0002row13_col1\" class=\"data row13 col1\" >7.023244</td>\n",
              "            </tr>\n",
              "            <tr>\n",
              "                        <th id=\"T_9ec3de3a_f34e_11eb_ba94_0242ac1c0002level0_row14\" class=\"row_heading level0 row14\" >14</th>\n",
              "                        <td id=\"T_9ec3de3a_f34e_11eb_ba94_0242ac1c0002row14_col0\" class=\"data row14 col0\" >MaritalStatus</td>\n",
              "                        <td id=\"T_9ec3de3a_f34e_11eb_ba94_0242ac1c0002row14_col1\" class=\"data row14 col1\" >5.787900</td>\n",
              "            </tr>\n",
              "            <tr>\n",
              "                        <th id=\"T_9ec3de3a_f34e_11eb_ba94_0242ac1c0002level0_row15\" class=\"row_heading level0 row15\" >15</th>\n",
              "                        <td id=\"T_9ec3de3a_f34e_11eb_ba94_0242ac1c0002row15_col0\" class=\"data row15 col0\" >MonthlyIncome</td>\n",
              "                        <td id=\"T_9ec3de3a_f34e_11eb_ba94_0242ac1c0002row15_col1\" class=\"data row15 col1\" >32.084632</td>\n",
              "            </tr>\n",
              "            <tr>\n",
              "                        <th id=\"T_9ec3de3a_f34e_11eb_ba94_0242ac1c0002level0_row16\" class=\"row_heading level0 row16\" >16</th>\n",
              "                        <td id=\"T_9ec3de3a_f34e_11eb_ba94_0242ac1c0002row16_col0\" class=\"data row16 col0\" >MonthlyRate</td>\n",
              "                        <td id=\"T_9ec3de3a_f34e_11eb_ba94_0242ac1c0002row16_col1\" class=\"data row16 col1\" >5.011517</td>\n",
              "            </tr>\n",
              "            <tr>\n",
              "                        <th id=\"T_9ec3de3a_f34e_11eb_ba94_0242ac1c0002level0_row17\" class=\"row_heading level0 row17\" >17</th>\n",
              "                        <td id=\"T_9ec3de3a_f34e_11eb_ba94_0242ac1c0002row17_col0\" class=\"data row17 col0\" >NumCompaniesWorked</td>\n",
              "                        <td id=\"T_9ec3de3a_f34e_11eb_ba94_0242ac1c0002row17_col1\" class=\"data row17 col1\" >2.726026</td>\n",
              "            </tr>\n",
              "            <tr>\n",
              "                        <th id=\"T_9ec3de3a_f34e_11eb_ba94_0242ac1c0002level0_row18\" class=\"row_heading level0 row18\" >18</th>\n",
              "                        <td id=\"T_9ec3de3a_f34e_11eb_ba94_0242ac1c0002row18_col0\" class=\"data row18 col0\" >OverTime</td>\n",
              "                        <td id=\"T_9ec3de3a_f34e_11eb_ba94_0242ac1c0002row18_col1\" class=\"data row18 col1\" >1.433417</td>\n",
              "            </tr>\n",
              "            <tr>\n",
              "                        <th id=\"T_9ec3de3a_f34e_11eb_ba94_0242ac1c0002level0_row19\" class=\"row_heading level0 row19\" >19</th>\n",
              "                        <td id=\"T_9ec3de3a_f34e_11eb_ba94_0242ac1c0002row19_col0\" class=\"data row19 col0\" >PercentSalaryHike</td>\n",
              "                        <td id=\"T_9ec3de3a_f34e_11eb_ba94_0242ac1c0002row19_col1\" class=\"data row19 col1\" >42.266379</td>\n",
              "            </tr>\n",
              "            <tr>\n",
              "                        <th id=\"T_9ec3de3a_f34e_11eb_ba94_0242ac1c0002level0_row20\" class=\"row_heading level0 row20\" >20</th>\n",
              "                        <td id=\"T_9ec3de3a_f34e_11eb_ba94_0242ac1c0002row20_col0\" class=\"data row20 col0\" >PerformanceRating</td>\n",
              "                        <td id=\"T_9ec3de3a_f34e_11eb_ba94_0242ac1c0002row20_col1\" class=\"data row20 col1\" >122.382855</td>\n",
              "            </tr>\n",
              "            <tr>\n",
              "                        <th id=\"T_9ec3de3a_f34e_11eb_ba94_0242ac1c0002level0_row21\" class=\"row_heading level0 row21\" >21</th>\n",
              "                        <td id=\"T_9ec3de3a_f34e_11eb_ba94_0242ac1c0002row21_col0\" class=\"data row21 col0\" >RelationshipSatisfaction</td>\n",
              "                        <td id=\"T_9ec3de3a_f34e_11eb_ba94_0242ac1c0002row21_col1\" class=\"data row21 col1\" >7.271234</td>\n",
              "            </tr>\n",
              "            <tr>\n",
              "                        <th id=\"T_9ec3de3a_f34e_11eb_ba94_0242ac1c0002level0_row22\" class=\"row_heading level0 row22\" >22</th>\n",
              "                        <td id=\"T_9ec3de3a_f34e_11eb_ba94_0242ac1c0002row22_col0\" class=\"data row22 col0\" >StockOptionLevel</td>\n",
              "                        <td id=\"T_9ec3de3a_f34e_11eb_ba94_0242ac1c0002row22_col1\" class=\"data row22 col1\" >3.323906</td>\n",
              "            </tr>\n",
              "            <tr>\n",
              "                        <th id=\"T_9ec3de3a_f34e_11eb_ba94_0242ac1c0002level0_row23\" class=\"row_heading level0 row23\" >23</th>\n",
              "                        <td id=\"T_9ec3de3a_f34e_11eb_ba94_0242ac1c0002row23_col0\" class=\"data row23 col0\" >TotalWorkingYears</td>\n",
              "                        <td id=\"T_9ec3de3a_f34e_11eb_ba94_0242ac1c0002row23_col1\" class=\"data row23 col1\" >14.597639</td>\n",
              "            </tr>\n",
              "            <tr>\n",
              "                        <th id=\"T_9ec3de3a_f34e_11eb_ba94_0242ac1c0002level0_row24\" class=\"row_heading level0 row24\" >24</th>\n",
              "                        <td id=\"T_9ec3de3a_f34e_11eb_ba94_0242ac1c0002row24_col0\" class=\"data row24 col0\" >TrainingTimesLastYear</td>\n",
              "                        <td id=\"T_9ec3de3a_f34e_11eb_ba94_0242ac1c0002row24_col1\" class=\"data row24 col1\" >5.717928</td>\n",
              "            </tr>\n",
              "            <tr>\n",
              "                        <th id=\"T_9ec3de3a_f34e_11eb_ba94_0242ac1c0002level0_row25\" class=\"row_heading level0 row25\" >25</th>\n",
              "                        <td id=\"T_9ec3de3a_f34e_11eb_ba94_0242ac1c0002row25_col0\" class=\"data row25 col0\" >WorkLifeBalance</td>\n",
              "                        <td id=\"T_9ec3de3a_f34e_11eb_ba94_0242ac1c0002row25_col1\" class=\"data row25 col1\" >15.595209</td>\n",
              "            </tr>\n",
              "            <tr>\n",
              "                        <th id=\"T_9ec3de3a_f34e_11eb_ba94_0242ac1c0002level0_row26\" class=\"row_heading level0 row26\" >26</th>\n",
              "                        <td id=\"T_9ec3de3a_f34e_11eb_ba94_0242ac1c0002row26_col0\" class=\"data row26 col0\" >YearsAtCompany</td>\n",
              "                        <td id=\"T_9ec3de3a_f34e_11eb_ba94_0242ac1c0002row26_col1\" class=\"data row26 col1\" >10.578995</td>\n",
              "            </tr>\n",
              "            <tr>\n",
              "                        <th id=\"T_9ec3de3a_f34e_11eb_ba94_0242ac1c0002level0_row27\" class=\"row_heading level0 row27\" >27</th>\n",
              "                        <td id=\"T_9ec3de3a_f34e_11eb_ba94_0242ac1c0002row27_col0\" class=\"data row27 col0\" >YearsInCurrentRole</td>\n",
              "                        <td id=\"T_9ec3de3a_f34e_11eb_ba94_0242ac1c0002row27_col1\" class=\"data row27 col1\" >6.439758</td>\n",
              "            </tr>\n",
              "            <tr>\n",
              "                        <th id=\"T_9ec3de3a_f34e_11eb_ba94_0242ac1c0002level0_row28\" class=\"row_heading level0 row28\" >28</th>\n",
              "                        <td id=\"T_9ec3de3a_f34e_11eb_ba94_0242ac1c0002row28_col0\" class=\"data row28 col0\" >YearsSinceLastPromotion</td>\n",
              "                        <td id=\"T_9ec3de3a_f34e_11eb_ba94_0242ac1c0002row28_col1\" class=\"data row28 col1\" >2.451288</td>\n",
              "            </tr>\n",
              "            <tr>\n",
              "                        <th id=\"T_9ec3de3a_f34e_11eb_ba94_0242ac1c0002level0_row29\" class=\"row_heading level0 row29\" >29</th>\n",
              "                        <td id=\"T_9ec3de3a_f34e_11eb_ba94_0242ac1c0002row29_col0\" class=\"data row29 col0\" >YearsWithCurrManager</td>\n",
              "                        <td id=\"T_9ec3de3a_f34e_11eb_ba94_0242ac1c0002row29_col1\" class=\"data row29 col1\" >6.495955</td>\n",
              "            </tr>\n",
              "    </tbody></table>"
            ],
            "text/plain": [
              "<pandas.io.formats.style.Styler at 0x7f95ccd41590>"
            ]
          },
          "metadata": {
            "tags": []
          },
          "execution_count": 13
        }
      ]
    },
    {
      "cell_type": "markdown",
      "metadata": {
        "id": "U1wnGE6f-2zz"
      },
      "source": [
        "# Choosing cloumns with VIF <= 5\n",
        "\n",
        "Variance Inflation Filtering(VIF) helps to **solve multicolinearity problem** in the dataset.\n",
        "\n",
        "When the **features are highly correlated**, the model will face **difficulties in distinguishing between the individual effects on the dependent variables.**\n",
        "\n",
        "VIF = 1/(1-R^2)\n",
        "\n",
        "Columns with **VIF <= 5** are  independent/**lessly correlated** form other columns in the dataset.\n",
        "\n",
        "Columns with VIF >= 5 are highly correlated \n",
        "\n",
        "From the table generated above, we will only keep these columns: 'DistanceFromHome', 'EducationField', 'Gender', 'NumCompaniesWorked', 'OverTime', 'StockOptionLevel', 'YearsSinceLastPromotion'"
      ]
    },
    {
      "cell_type": "code",
      "metadata": {
        "id": "kk7-rmFSR7B_"
      },
      "source": [
        "# Define the new dataset after calculating VIF\n",
        "x_vif = data[['DistanceFromHome', 'EducationField', 'Gender', 'NumCompaniesWorked', 'OverTime', 'StockOptionLevel', 'YearsSinceLastPromotion']]\n",
        "y_vif = data['Attrition']"
      ],
      "execution_count": 14,
      "outputs": []
    },
    {
      "cell_type": "code",
      "metadata": {
        "colab": {
          "base_uri": "https://localhost:8080/"
        },
        "id": "MO69QXBcSIdh",
        "outputId": "a317617e-8d5d-45ee-c83d-0853850469ed"
      },
      "source": [
        "y_vif"
      ],
      "execution_count": 16,
      "outputs": [
        {
          "output_type": "execute_result",
          "data": {
            "text/plain": [
              "0       Yes\n",
              "1        No\n",
              "2       Yes\n",
              "3        No\n",
              "4        No\n",
              "       ... \n",
              "1465     No\n",
              "1466     No\n",
              "1467     No\n",
              "1468     No\n",
              "1469     No\n",
              "Name: Attrition, Length: 1470, dtype: object"
            ]
          },
          "metadata": {
            "tags": []
          },
          "execution_count": 16
        }
      ]
    },
    {
      "cell_type": "code",
      "metadata": {
        "colab": {
          "base_uri": "https://localhost:8080/"
        },
        "id": "QxyUQD_X-ewK",
        "outputId": "3d273977-ce5b-4cb8-c633-d31ea7999a7f"
      },
      "source": [
        "# balance the dataset distribution using 'SMOTEENN' Sampling Technique\n",
        "\n",
        "from imblearn.combine import SMOTEENN\n",
        "\n",
        "# defining the model\n",
        "sn = SMOTEENN(random_state = 0)\n",
        "\n",
        "# train the model\n",
        "sn.fit(x_vif, y_vif)\n",
        "\n",
        "# Making the samples\n",
        "x_vif, y_vif = sn.fit_sample(x_vif, y_vif)\n",
        "\n",
        "#convert y_vif from ndarray to dataframe\n",
        "y_vif = pd.DataFrame(y_vif, columns = ['Attrition'])\n",
        "\n",
        "# Distribution of the dataset\n",
        "y_vif.value_counts()"
      ],
      "execution_count": 17,
      "outputs": [
        {
          "output_type": "stream",
          "text": [
            "/usr/local/lib/python3.7/dist-packages/sklearn/externals/six.py:31: FutureWarning: The module is deprecated in version 0.21 and will be removed in version 0.23 since we've dropped support for Python 2.7. Please rely on the official version of six (https://pypi.org/project/six/).\n",
            "  \"(https://pypi.org/project/six/).\", FutureWarning)\n",
            "/usr/local/lib/python3.7/dist-packages/sklearn/utils/deprecation.py:144: FutureWarning: The sklearn.neighbors.base module is  deprecated in version 0.22 and will be removed in version 0.24. The corresponding classes / functions should instead be imported from sklearn.neighbors. Anything that cannot be imported from sklearn.neighbors is now part of the private API.\n",
            "  warnings.warn(message, FutureWarning)\n",
            "/usr/local/lib/python3.7/dist-packages/sklearn/utils/deprecation.py:87: FutureWarning: Function safe_indexing is deprecated; safe_indexing is deprecated in version 0.22 and will be removed in version 0.24.\n",
            "  warnings.warn(msg, category=FutureWarning)\n",
            "/usr/local/lib/python3.7/dist-packages/sklearn/utils/deprecation.py:87: FutureWarning: Function safe_indexing is deprecated; safe_indexing is deprecated in version 0.22 and will be removed in version 0.24.\n",
            "  warnings.warn(msg, category=FutureWarning)\n",
            "/usr/local/lib/python3.7/dist-packages/sklearn/utils/deprecation.py:87: FutureWarning: Function safe_indexing is deprecated; safe_indexing is deprecated in version 0.22 and will be removed in version 0.24.\n",
            "  warnings.warn(msg, category=FutureWarning)\n",
            "/usr/local/lib/python3.7/dist-packages/sklearn/utils/deprecation.py:87: FutureWarning: Function safe_indexing is deprecated; safe_indexing is deprecated in version 0.22 and will be removed in version 0.24.\n",
            "  warnings.warn(msg, category=FutureWarning)\n"
          ],
          "name": "stderr"
        },
        {
          "output_type": "execute_result",
          "data": {
            "text/plain": [
              "Attrition\n",
              "Yes          884\n",
              "No           543\n",
              "dtype: int64"
            ]
          },
          "metadata": {
            "tags": []
          },
          "execution_count": 17
        }
      ]
    },
    {
      "cell_type": "markdown",
      "metadata": {
        "id": "4I5j5P6fFkrc"
      },
      "source": [
        "# Splitting the Dataset into Testing and Training"
      ]
    },
    {
      "cell_type": "code",
      "metadata": {
        "colab": {
          "base_uri": "https://localhost:8080/"
        },
        "id": "RpNxgjnuB_sz",
        "outputId": "9c7a569c-93b4-46d3-b7d8-9b11674cbca1"
      },
      "source": [
        "# splitting the dataset\n",
        "\n",
        "from sklearn.model_selection import train_test_split\n",
        "\n",
        "x_train_vif, x_test_vif, y_train_vif, y_test_vif = train_test_split(x_vif, y_vif, test_size = 0.2, random_state = 0)\n",
        "\n",
        "print(\"Shape x_train: \", x_train_vif.shape)\n",
        "print(\"Shape x_test: \", x_test_vif.shape)\n",
        "print(\"Shape y_train: \", y_train_vif.shape)\n",
        "print(\"Shape y_test: \", y_test_vif.shape)"
      ],
      "execution_count": 18,
      "outputs": [
        {
          "output_type": "stream",
          "text": [
            "Shape x_train:  (1141, 7)\n",
            "Shape x_test:  (286, 7)\n",
            "Shape y_train:  (1141, 1)\n",
            "Shape y_test:  (286, 1)\n"
          ],
          "name": "stdout"
        }
      ]
    },
    {
      "cell_type": "markdown",
      "metadata": {
        "id": "zlIHzqNGJEDc"
      },
      "source": [
        "# Decision Tree Classification Model"
      ]
    },
    {
      "cell_type": "code",
      "metadata": {
        "colab": {
          "base_uri": "https://localhost:8080/"
        },
        "id": "S9B4_rucDpXw",
        "outputId": "152e0a04-90af-4015-d131-ad9aa23f6f15"
      },
      "source": [
        "# Train a Decision Tree Classification Model\n",
        "\n",
        "from sklearn.tree import DecisionTreeClassifier\n",
        "from sklearn.metrics import classification_report\n",
        "\n",
        "model = DecisionTreeClassifier()\n",
        "model.fit(x_train_vif, y_train_vif)\n",
        "y_pred_vif = model.predict(x_test_vif)\n",
        "\n",
        "cr_vif = classification_report(y_pred_vif, y_test_vif)\n",
        "print(cr_vif)"
      ],
      "execution_count": 19,
      "outputs": [
        {
          "output_type": "stream",
          "text": [
            "              precision    recall  f1-score   support\n",
            "\n",
            "          No       0.79      0.91      0.85       101\n",
            "         Yes       0.95      0.87      0.91       185\n",
            "\n",
            "    accuracy                           0.88       286\n",
            "   macro avg       0.87      0.89      0.88       286\n",
            "weighted avg       0.89      0.88      0.89       286\n",
            "\n"
          ],
          "name": "stdout"
        }
      ]
    },
    {
      "cell_type": "markdown",
      "metadata": {
        "id": "bxIEGazzGZ3_"
      },
      "source": [
        "From the classification report above, we can see that the results are much better although we are only using 7 columns to train or model"
      ]
    }
  ]
}
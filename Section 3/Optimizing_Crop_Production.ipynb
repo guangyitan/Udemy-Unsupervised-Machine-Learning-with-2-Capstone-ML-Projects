{
  "nbformat": 4,
  "nbformat_minor": 0,
  "metadata": {
    "colab": {
      "name": "Optimizing Crop Production.ipynb",
      "provenance": [],
      "collapsed_sections": [],
      "toc_visible": true,
      "authorship_tag": "ABX9TyMARHv67Hn/4W8Xk4GdNDgZ",
      "include_colab_link": true
    },
    "kernelspec": {
      "name": "python3",
      "display_name": "Python 3"
    },
    "language_info": {
      "name": "python"
    },
    "widgets": {
      "application/vnd.jupyter.widget-state+json": {
        "dd85413ed5564d5185d0bc0b0edc1660": {
          "model_module": "@jupyter-widgets/controls",
          "model_name": "VBoxModel",
          "model_module_version": "1.5.0",
          "state": {
            "_view_name": "VBoxView",
            "_dom_classes": [
              "widget-interact"
            ],
            "_model_name": "VBoxModel",
            "_view_module": "@jupyter-widgets/controls",
            "_model_module_version": "1.5.0",
            "_view_count": null,
            "_view_module_version": "1.5.0",
            "box_style": "",
            "layout": "IPY_MODEL_1481f629f3424d19a9587a6d4e667775",
            "_model_module": "@jupyter-widgets/controls",
            "children": [
              "IPY_MODEL_127e4d06968f4f11a732c956d0c0b04f",
              "IPY_MODEL_03d291a5bc43434b873ed1be24256252"
            ]
          }
        },
        "1481f629f3424d19a9587a6d4e667775": {
          "model_module": "@jupyter-widgets/base",
          "model_name": "LayoutModel",
          "model_module_version": "1.2.0",
          "state": {
            "_view_name": "LayoutView",
            "grid_template_rows": null,
            "right": null,
            "justify_content": null,
            "_view_module": "@jupyter-widgets/base",
            "overflow": null,
            "_model_module_version": "1.2.0",
            "_view_count": null,
            "flex_flow": null,
            "width": null,
            "min_width": null,
            "border": null,
            "align_items": null,
            "bottom": null,
            "_model_module": "@jupyter-widgets/base",
            "top": null,
            "grid_column": null,
            "overflow_y": null,
            "overflow_x": null,
            "grid_auto_flow": null,
            "grid_area": null,
            "grid_template_columns": null,
            "flex": null,
            "_model_name": "LayoutModel",
            "justify_items": null,
            "grid_row": null,
            "max_height": null,
            "align_content": null,
            "visibility": null,
            "align_self": null,
            "height": null,
            "min_height": null,
            "padding": null,
            "grid_auto_rows": null,
            "grid_gap": null,
            "max_width": null,
            "order": null,
            "_view_module_version": "1.2.0",
            "grid_template_areas": null,
            "object_position": null,
            "object_fit": null,
            "grid_auto_columns": null,
            "margin": null,
            "display": null,
            "left": null
          }
        },
        "127e4d06968f4f11a732c956d0c0b04f": {
          "model_module": "@jupyter-widgets/controls",
          "model_name": "DropdownModel",
          "model_module_version": "1.5.0",
          "state": {
            "_options_labels": [
              "jute",
              "pomegranate",
              "rice",
              "blackgram",
              "mungbean",
              "papaya",
              "apple",
              "pigeonpeas",
              "coffee",
              "banana",
              "muskmelon",
              "mango",
              "maize",
              "chickpea",
              "kidneybeans",
              "cotton",
              "grapes",
              "orange",
              "watermelon",
              "lentil",
              "coconut",
              "mothbeans"
            ],
            "_view_name": "DropdownView",
            "style": "IPY_MODEL_0d2a93eac11f4132bc4fc2b9068e8e59",
            "_dom_classes": [],
            "description": "crops",
            "_model_name": "DropdownModel",
            "index": 21,
            "_view_module": "@jupyter-widgets/controls",
            "_model_module_version": "1.5.0",
            "_view_count": null,
            "disabled": false,
            "_view_module_version": "1.5.0",
            "description_tooltip": null,
            "_model_module": "@jupyter-widgets/controls",
            "layout": "IPY_MODEL_ae924674ebc14ff585610092c06f83de"
          }
        },
        "03d291a5bc43434b873ed1be24256252": {
          "model_module": "@jupyter-widgets/output",
          "model_name": "OutputModel",
          "model_module_version": "1.0.0",
          "state": {
            "_view_name": "OutputView",
            "msg_id": "",
            "_dom_classes": [],
            "_model_name": "OutputModel",
            "outputs": [
              {
                "output_type": "stream",
                "text": [
                  "---------------------------------------------------\n",
                  "Statistic for Nitrogen\n",
                  "Min: 0\n",
                  "Mean: 21.44\n",
                  "Max: 40\n",
                  "---------------------------------------------------\n",
                  "Statistic for Phosphorus\n",
                  "Min: 35\n",
                  "Mean: 48.01\n",
                  "Max: 60\n",
                  "---------------------------------------------------\n",
                  "Statistic for Potassium\n",
                  "Min: 15\n",
                  "Mean: 20.23\n",
                  "Max: 25\n",
                  "---------------------------------------------------\n",
                  "Statistic for Temperature\n",
                  "Min: 24.02\n",
                  "Mean: 28.19\n",
                  "Max: 32.00\n",
                  "---------------------------------------------------\n",
                  "Statistic for Humidity\n",
                  "Min: 40.01\n",
                  "Mean: 53.16\n",
                  "Max: 64.96\n",
                  "---------------------------------------------------\n",
                  "Statistic for PH\n",
                  "Min: 3.50\n",
                  "Mean: 6.83\n",
                  "Max: 9.94\n",
                  "---------------------------------------------------\n",
                  "Statistic for Rainfall\n",
                  "Min: 30.92\n",
                  "Mean: 51.20\n",
                  "Max: 74.44\n"
                ],
                "name": "stdout"
              }
            ],
            "_view_module": "@jupyter-widgets/output",
            "_model_module_version": "1.0.0",
            "_view_count": null,
            "_view_module_version": "1.0.0",
            "layout": "IPY_MODEL_17b50390649644938266cf0bc8797002",
            "_model_module": "@jupyter-widgets/output"
          }
        },
        "0d2a93eac11f4132bc4fc2b9068e8e59": {
          "model_module": "@jupyter-widgets/controls",
          "model_name": "DescriptionStyleModel",
          "model_module_version": "1.5.0",
          "state": {
            "_view_name": "StyleView",
            "_model_name": "DescriptionStyleModel",
            "description_width": "",
            "_view_module": "@jupyter-widgets/base",
            "_model_module_version": "1.5.0",
            "_view_count": null,
            "_view_module_version": "1.2.0",
            "_model_module": "@jupyter-widgets/controls"
          }
        },
        "ae924674ebc14ff585610092c06f83de": {
          "model_module": "@jupyter-widgets/base",
          "model_name": "LayoutModel",
          "model_module_version": "1.2.0",
          "state": {
            "_view_name": "LayoutView",
            "grid_template_rows": null,
            "right": null,
            "justify_content": null,
            "_view_module": "@jupyter-widgets/base",
            "overflow": null,
            "_model_module_version": "1.2.0",
            "_view_count": null,
            "flex_flow": null,
            "width": null,
            "min_width": null,
            "border": null,
            "align_items": null,
            "bottom": null,
            "_model_module": "@jupyter-widgets/base",
            "top": null,
            "grid_column": null,
            "overflow_y": null,
            "overflow_x": null,
            "grid_auto_flow": null,
            "grid_area": null,
            "grid_template_columns": null,
            "flex": null,
            "_model_name": "LayoutModel",
            "justify_items": null,
            "grid_row": null,
            "max_height": null,
            "align_content": null,
            "visibility": null,
            "align_self": null,
            "height": null,
            "min_height": null,
            "padding": null,
            "grid_auto_rows": null,
            "grid_gap": null,
            "max_width": null,
            "order": null,
            "_view_module_version": "1.2.0",
            "grid_template_areas": null,
            "object_position": null,
            "object_fit": null,
            "grid_auto_columns": null,
            "margin": null,
            "display": null,
            "left": null
          }
        },
        "17b50390649644938266cf0bc8797002": {
          "model_module": "@jupyter-widgets/base",
          "model_name": "LayoutModel",
          "model_module_version": "1.2.0",
          "state": {
            "_view_name": "LayoutView",
            "grid_template_rows": null,
            "right": null,
            "justify_content": null,
            "_view_module": "@jupyter-widgets/base",
            "overflow": null,
            "_model_module_version": "1.2.0",
            "_view_count": null,
            "flex_flow": null,
            "width": null,
            "min_width": null,
            "border": null,
            "align_items": null,
            "bottom": null,
            "_model_module": "@jupyter-widgets/base",
            "top": null,
            "grid_column": null,
            "overflow_y": null,
            "overflow_x": null,
            "grid_auto_flow": null,
            "grid_area": null,
            "grid_template_columns": null,
            "flex": null,
            "_model_name": "LayoutModel",
            "justify_items": null,
            "grid_row": null,
            "max_height": null,
            "align_content": null,
            "visibility": null,
            "align_self": null,
            "height": null,
            "min_height": null,
            "padding": null,
            "grid_auto_rows": null,
            "grid_gap": null,
            "max_width": null,
            "order": null,
            "_view_module_version": "1.2.0",
            "grid_template_areas": null,
            "object_position": null,
            "object_fit": null,
            "grid_auto_columns": null,
            "margin": null,
            "display": null,
            "left": null
          }
        },
        "b86c8a3bc10745008b2beeb4e98ff2ca": {
          "model_module": "@jupyter-widgets/controls",
          "model_name": "VBoxModel",
          "model_module_version": "1.5.0",
          "state": {
            "_view_name": "VBoxView",
            "_dom_classes": [
              "widget-interact"
            ],
            "_model_name": "VBoxModel",
            "_view_module": "@jupyter-widgets/controls",
            "_model_module_version": "1.5.0",
            "_view_count": null,
            "_view_module_version": "1.5.0",
            "box_style": "",
            "layout": "IPY_MODEL_a870758efa0844c3932365cd9c67b0ce",
            "_model_module": "@jupyter-widgets/controls",
            "children": [
              "IPY_MODEL_44306eefe2d645cda77a5b2b3f8c01dc",
              "IPY_MODEL_c7a23bed4f8044e8b64dc39b00762b55"
            ]
          }
        },
        "a870758efa0844c3932365cd9c67b0ce": {
          "model_module": "@jupyter-widgets/base",
          "model_name": "LayoutModel",
          "model_module_version": "1.2.0",
          "state": {
            "_view_name": "LayoutView",
            "grid_template_rows": null,
            "right": null,
            "justify_content": null,
            "_view_module": "@jupyter-widgets/base",
            "overflow": null,
            "_model_module_version": "1.2.0",
            "_view_count": null,
            "flex_flow": null,
            "width": null,
            "min_width": null,
            "border": null,
            "align_items": null,
            "bottom": null,
            "_model_module": "@jupyter-widgets/base",
            "top": null,
            "grid_column": null,
            "overflow_y": null,
            "overflow_x": null,
            "grid_auto_flow": null,
            "grid_area": null,
            "grid_template_columns": null,
            "flex": null,
            "_model_name": "LayoutModel",
            "justify_items": null,
            "grid_row": null,
            "max_height": null,
            "align_content": null,
            "visibility": null,
            "align_self": null,
            "height": null,
            "min_height": null,
            "padding": null,
            "grid_auto_rows": null,
            "grid_gap": null,
            "max_width": null,
            "order": null,
            "_view_module_version": "1.2.0",
            "grid_template_areas": null,
            "object_position": null,
            "object_fit": null,
            "grid_auto_columns": null,
            "margin": null,
            "display": null,
            "left": null
          }
        },
        "44306eefe2d645cda77a5b2b3f8c01dc": {
          "model_module": "@jupyter-widgets/controls",
          "model_name": "DropdownModel",
          "model_module_version": "1.5.0",
          "state": {
            "_options_labels": [
              "N",
              "P",
              "K",
              "temperature",
              "ph",
              "humidity",
              "rainfall"
            ],
            "_view_name": "DropdownView",
            "style": "IPY_MODEL_9158b0dad5f34846b9b3d53d17b0abb5",
            "_dom_classes": [],
            "description": "conditions",
            "_model_name": "DropdownModel",
            "index": 6,
            "_view_module": "@jupyter-widgets/controls",
            "_model_module_version": "1.5.0",
            "_view_count": null,
            "disabled": false,
            "_view_module_version": "1.5.0",
            "description_tooltip": null,
            "_model_module": "@jupyter-widgets/controls",
            "layout": "IPY_MODEL_de7043c19bb647a8a8bb9dfc9a3ad95a"
          }
        },
        "c7a23bed4f8044e8b64dc39b00762b55": {
          "model_module": "@jupyter-widgets/output",
          "model_name": "OutputModel",
          "model_module_version": "1.0.0",
          "state": {
            "_view_name": "OutputView",
            "msg_id": "",
            "_dom_classes": [],
            "_model_name": "OutputModel",
            "outputs": [
              {
                "output_type": "stream",
                "text": [
                  "Avg val for  rainfall is  103.46\n",
                  "---------------------------------------\n",
                  "rice : 236.18\n",
                  "maize : 84.77\n",
                  "chickpea : 80.06\n",
                  "kidneybeans : 105.92\n",
                  "pigeonpeas : 149.46\n",
                  "mothbeans : 51.20\n",
                  "mungbean : 48.40\n",
                  "blackgram : 67.88\n",
                  "lentil : 45.68\n",
                  "pomegranate : 107.53\n",
                  "banana : 104.63\n",
                  "mango : 94.70\n",
                  "grapes : 69.61\n",
                  "watermelon : 50.79\n",
                  "muskmelon : 24.69\n",
                  "apple : 112.65\n",
                  "orange : 110.47\n",
                  "papaya : 142.63\n",
                  "coconut : 175.69\n",
                  "cotton : 80.40\n",
                  "jute : 174.79\n",
                  "coffee : 158.07\n"
                ],
                "name": "stdout"
              }
            ],
            "_view_module": "@jupyter-widgets/output",
            "_model_module_version": "1.0.0",
            "_view_count": null,
            "_view_module_version": "1.0.0",
            "layout": "IPY_MODEL_dda7ce21a4ed44589f3d7787919c2f17",
            "_model_module": "@jupyter-widgets/output"
          }
        },
        "9158b0dad5f34846b9b3d53d17b0abb5": {
          "model_module": "@jupyter-widgets/controls",
          "model_name": "DescriptionStyleModel",
          "model_module_version": "1.5.0",
          "state": {
            "_view_name": "StyleView",
            "_model_name": "DescriptionStyleModel",
            "description_width": "",
            "_view_module": "@jupyter-widgets/base",
            "_model_module_version": "1.5.0",
            "_view_count": null,
            "_view_module_version": "1.2.0",
            "_model_module": "@jupyter-widgets/controls"
          }
        },
        "de7043c19bb647a8a8bb9dfc9a3ad95a": {
          "model_module": "@jupyter-widgets/base",
          "model_name": "LayoutModel",
          "model_module_version": "1.2.0",
          "state": {
            "_view_name": "LayoutView",
            "grid_template_rows": null,
            "right": null,
            "justify_content": null,
            "_view_module": "@jupyter-widgets/base",
            "overflow": null,
            "_model_module_version": "1.2.0",
            "_view_count": null,
            "flex_flow": null,
            "width": null,
            "min_width": null,
            "border": null,
            "align_items": null,
            "bottom": null,
            "_model_module": "@jupyter-widgets/base",
            "top": null,
            "grid_column": null,
            "overflow_y": null,
            "overflow_x": null,
            "grid_auto_flow": null,
            "grid_area": null,
            "grid_template_columns": null,
            "flex": null,
            "_model_name": "LayoutModel",
            "justify_items": null,
            "grid_row": null,
            "max_height": null,
            "align_content": null,
            "visibility": null,
            "align_self": null,
            "height": null,
            "min_height": null,
            "padding": null,
            "grid_auto_rows": null,
            "grid_gap": null,
            "max_width": null,
            "order": null,
            "_view_module_version": "1.2.0",
            "grid_template_areas": null,
            "object_position": null,
            "object_fit": null,
            "grid_auto_columns": null,
            "margin": null,
            "display": null,
            "left": null
          }
        },
        "dda7ce21a4ed44589f3d7787919c2f17": {
          "model_module": "@jupyter-widgets/base",
          "model_name": "LayoutModel",
          "model_module_version": "1.2.0",
          "state": {
            "_view_name": "LayoutView",
            "grid_template_rows": null,
            "right": null,
            "justify_content": null,
            "_view_module": "@jupyter-widgets/base",
            "overflow": null,
            "_model_module_version": "1.2.0",
            "_view_count": null,
            "flex_flow": null,
            "width": null,
            "min_width": null,
            "border": null,
            "align_items": null,
            "bottom": null,
            "_model_module": "@jupyter-widgets/base",
            "top": null,
            "grid_column": null,
            "overflow_y": null,
            "overflow_x": null,
            "grid_auto_flow": null,
            "grid_area": null,
            "grid_template_columns": null,
            "flex": null,
            "_model_name": "LayoutModel",
            "justify_items": null,
            "grid_row": null,
            "max_height": null,
            "align_content": null,
            "visibility": null,
            "align_self": null,
            "height": null,
            "min_height": null,
            "padding": null,
            "grid_auto_rows": null,
            "grid_gap": null,
            "max_width": null,
            "order": null,
            "_view_module_version": "1.2.0",
            "grid_template_areas": null,
            "object_position": null,
            "object_fit": null,
            "grid_auto_columns": null,
            "margin": null,
            "display": null,
            "left": null
          }
        },
        "d88205edcc8b42ddae3b235566487b74": {
          "model_module": "@jupyter-widgets/controls",
          "model_name": "VBoxModel",
          "model_module_version": "1.5.0",
          "state": {
            "_view_name": "VBoxView",
            "_dom_classes": [
              "widget-interact"
            ],
            "_model_name": "VBoxModel",
            "_view_module": "@jupyter-widgets/controls",
            "_model_module_version": "1.5.0",
            "_view_count": null,
            "_view_module_version": "1.5.0",
            "box_style": "",
            "layout": "IPY_MODEL_2c49cbe8609d4d02b428d89cae4aa9d0",
            "_model_module": "@jupyter-widgets/controls",
            "children": [
              "IPY_MODEL_b3d11ffb881c4f03a2246be38cb82fae",
              "IPY_MODEL_5e408318d4b8459295c40b5da7820526"
            ]
          }
        },
        "2c49cbe8609d4d02b428d89cae4aa9d0": {
          "model_module": "@jupyter-widgets/base",
          "model_name": "LayoutModel",
          "model_module_version": "1.2.0",
          "state": {
            "_view_name": "LayoutView",
            "grid_template_rows": null,
            "right": null,
            "justify_content": null,
            "_view_module": "@jupyter-widgets/base",
            "overflow": null,
            "_model_module_version": "1.2.0",
            "_view_count": null,
            "flex_flow": null,
            "width": null,
            "min_width": null,
            "border": null,
            "align_items": null,
            "bottom": null,
            "_model_module": "@jupyter-widgets/base",
            "top": null,
            "grid_column": null,
            "overflow_y": null,
            "overflow_x": null,
            "grid_auto_flow": null,
            "grid_area": null,
            "grid_template_columns": null,
            "flex": null,
            "_model_name": "LayoutModel",
            "justify_items": null,
            "grid_row": null,
            "max_height": null,
            "align_content": null,
            "visibility": null,
            "align_self": null,
            "height": null,
            "min_height": null,
            "padding": null,
            "grid_auto_rows": null,
            "grid_gap": null,
            "max_width": null,
            "order": null,
            "_view_module_version": "1.2.0",
            "grid_template_areas": null,
            "object_position": null,
            "object_fit": null,
            "grid_auto_columns": null,
            "margin": null,
            "display": null,
            "left": null
          }
        },
        "b3d11ffb881c4f03a2246be38cb82fae": {
          "model_module": "@jupyter-widgets/controls",
          "model_name": "DropdownModel",
          "model_module_version": "1.5.0",
          "state": {
            "_options_labels": [
              "N",
              "P",
              "K",
              "temperature",
              "ph",
              "humidity",
              "rainfall"
            ],
            "_view_name": "DropdownView",
            "style": "IPY_MODEL_315b32fe05364dac9d6c2a3718876716",
            "_dom_classes": [],
            "description": "conditions",
            "_model_name": "DropdownModel",
            "index": 0,
            "_view_module": "@jupyter-widgets/controls",
            "_model_module_version": "1.5.0",
            "_view_count": null,
            "disabled": false,
            "_view_module_version": "1.5.0",
            "description_tooltip": null,
            "_model_module": "@jupyter-widgets/controls",
            "layout": "IPY_MODEL_e7209c54465344febec909beac711509"
          }
        },
        "5e408318d4b8459295c40b5da7820526": {
          "model_module": "@jupyter-widgets/output",
          "model_name": "OutputModel",
          "model_module_version": "1.0.0",
          "state": {
            "_view_name": "OutputView",
            "msg_id": "",
            "_dom_classes": [],
            "_model_name": "OutputModel",
            "outputs": [
              {
                "output_type": "stream",
                "text": [
                  "Crops require greater than avg N \n",
                  "\n"
                ],
                "name": "stdout"
              },
              {
                "output_type": "stream",
                "text": [
                  "['rice' 'maize' 'chickpea' 'blackgram' 'banana' 'watermelon' 'muskmelon'\n",
                  " 'papaya' 'cotton' 'jute' 'coffee']\n",
                  "--------------------------------------------\n",
                  "Crops require lesser than avg N \n",
                  "\n",
                  "['chickpea' 'kidneybeans' 'pigeonpeas' 'mothbeans' 'mungbean' 'blackgram'\n",
                  " 'lentil' 'pomegranate' 'mango' 'grapes' 'apple' 'orange' 'papaya'\n",
                  " 'coconut']\n"
                ],
                "name": "stdout"
              }
            ],
            "_view_module": "@jupyter-widgets/output",
            "_model_module_version": "1.0.0",
            "_view_count": null,
            "_view_module_version": "1.0.0",
            "layout": "IPY_MODEL_a4c1c041a8e34a26802d0f4832484a63",
            "_model_module": "@jupyter-widgets/output"
          }
        },
        "315b32fe05364dac9d6c2a3718876716": {
          "model_module": "@jupyter-widgets/controls",
          "model_name": "DescriptionStyleModel",
          "model_module_version": "1.5.0",
          "state": {
            "_view_name": "StyleView",
            "_model_name": "DescriptionStyleModel",
            "description_width": "",
            "_view_module": "@jupyter-widgets/base",
            "_model_module_version": "1.5.0",
            "_view_count": null,
            "_view_module_version": "1.2.0",
            "_model_module": "@jupyter-widgets/controls"
          }
        },
        "e7209c54465344febec909beac711509": {
          "model_module": "@jupyter-widgets/base",
          "model_name": "LayoutModel",
          "model_module_version": "1.2.0",
          "state": {
            "_view_name": "LayoutView",
            "grid_template_rows": null,
            "right": null,
            "justify_content": null,
            "_view_module": "@jupyter-widgets/base",
            "overflow": null,
            "_model_module_version": "1.2.0",
            "_view_count": null,
            "flex_flow": null,
            "width": null,
            "min_width": null,
            "border": null,
            "align_items": null,
            "bottom": null,
            "_model_module": "@jupyter-widgets/base",
            "top": null,
            "grid_column": null,
            "overflow_y": null,
            "overflow_x": null,
            "grid_auto_flow": null,
            "grid_area": null,
            "grid_template_columns": null,
            "flex": null,
            "_model_name": "LayoutModel",
            "justify_items": null,
            "grid_row": null,
            "max_height": null,
            "align_content": null,
            "visibility": null,
            "align_self": null,
            "height": null,
            "min_height": null,
            "padding": null,
            "grid_auto_rows": null,
            "grid_gap": null,
            "max_width": null,
            "order": null,
            "_view_module_version": "1.2.0",
            "grid_template_areas": null,
            "object_position": null,
            "object_fit": null,
            "grid_auto_columns": null,
            "margin": null,
            "display": null,
            "left": null
          }
        },
        "a4c1c041a8e34a26802d0f4832484a63": {
          "model_module": "@jupyter-widgets/base",
          "model_name": "LayoutModel",
          "model_module_version": "1.2.0",
          "state": {
            "_view_name": "LayoutView",
            "grid_template_rows": null,
            "right": null,
            "justify_content": null,
            "_view_module": "@jupyter-widgets/base",
            "overflow": null,
            "_model_module_version": "1.2.0",
            "_view_count": null,
            "flex_flow": null,
            "width": null,
            "min_width": null,
            "border": null,
            "align_items": null,
            "bottom": null,
            "_model_module": "@jupyter-widgets/base",
            "top": null,
            "grid_column": null,
            "overflow_y": null,
            "overflow_x": null,
            "grid_auto_flow": null,
            "grid_area": null,
            "grid_template_columns": null,
            "flex": null,
            "_model_name": "LayoutModel",
            "justify_items": null,
            "grid_row": null,
            "max_height": null,
            "align_content": null,
            "visibility": null,
            "align_self": null,
            "height": null,
            "min_height": null,
            "padding": null,
            "grid_auto_rows": null,
            "grid_gap": null,
            "max_width": null,
            "order": null,
            "_view_module_version": "1.2.0",
            "grid_template_areas": null,
            "object_position": null,
            "object_fit": null,
            "grid_auto_columns": null,
            "margin": null,
            "display": null,
            "left": null
          }
        }
      }
    }
  },
  "cells": [
    {
      "cell_type": "markdown",
      "metadata": {
        "id": "view-in-github",
        "colab_type": "text"
      },
      "source": [
        "<a href=\"https://colab.research.google.com/github/guangyitan/Udemy-Unsupervised-Machine-Learning-with-2-Capstone-ML-Projects/blob/main/Section%203/Optimizing_Crop_Production.ipynb\" target=\"_parent\"><img src=\"https://colab.research.google.com/assets/colab-badge.svg\" alt=\"Open In Colab\"/></a>"
      ]
    },
    {
      "cell_type": "code",
      "metadata": {
        "id": "_5_OL3cNuMJR"
      },
      "source": [
        "import numpy as np\n",
        "import pandas as pd\n",
        "import matplotlib.pyplot as plt\n",
        "import seaborn as sns\n",
        "plt.style.use('fivethirtyeight')\n",
        "\n",
        "import ipywidgets\n",
        "from ipywidgets import interact\n"
      ],
      "execution_count": 1,
      "outputs": []
    },
    {
      "cell_type": "code",
      "metadata": {
        "colab": {
          "base_uri": "https://localhost:8080/"
        },
        "id": "61WzbuapwerW",
        "outputId": "881d7da2-0d76-492a-b1b0-d55a71d1ec3a"
      },
      "source": [
        "# mount to google drive\n",
        "from google.colab import drive \n",
        "drive.mount('/content/MyDrive')\n",
        "project_path = '/content/MyDrive/My Drive/Colab Notebooks/Udemy/Optimizing Crop Production/'\n",
        "\n",
        "# read the excel file\n",
        "# the dataset can be obtained from https://www.kaggle.com/atharvaingle/crop-recommendation-dataset\n",
        "data = pd.read_csv(project_path + \"crop_recommendation_dataset.csv\")\n",
        "data.shape"
      ],
      "execution_count": 2,
      "outputs": [
        {
          "output_type": "stream",
          "text": [
            "Mounted at /content/MyDrive\n"
          ],
          "name": "stdout"
        },
        {
          "output_type": "execute_result",
          "data": {
            "text/plain": [
              "(2200, 8)"
            ]
          },
          "metadata": {
            "tags": []
          },
          "execution_count": 2
        }
      ]
    },
    {
      "cell_type": "markdown",
      "metadata": {
        "id": "dfZ2RvzUyhk4"
      },
      "source": [
        "# Aim of Project\n",
        "We need to train a model that can predict suitable crops that can be planted based on the given soil condition"
      ]
    },
    {
      "cell_type": "code",
      "metadata": {
        "colab": {
          "base_uri": "https://localhost:8080/",
          "height": 204
        },
        "id": "YQsNBFAtFHMo",
        "outputId": "ab5bd71b-2ab8-401a-a50d-325818e89cb4"
      },
      "source": [
        "# Visualise the dataset\n",
        "# set num  of columns to display\n",
        "pd.set_option('max_columns', 8)\n",
        "data.head()"
      ],
      "execution_count": 3,
      "outputs": [
        {
          "output_type": "execute_result",
          "data": {
            "text/html": [
              "<div>\n",
              "<style scoped>\n",
              "    .dataframe tbody tr th:only-of-type {\n",
              "        vertical-align: middle;\n",
              "    }\n",
              "\n",
              "    .dataframe tbody tr th {\n",
              "        vertical-align: top;\n",
              "    }\n",
              "\n",
              "    .dataframe thead th {\n",
              "        text-align: right;\n",
              "    }\n",
              "</style>\n",
              "<table border=\"1\" class=\"dataframe\">\n",
              "  <thead>\n",
              "    <tr style=\"text-align: right;\">\n",
              "      <th></th>\n",
              "      <th>N</th>\n",
              "      <th>P</th>\n",
              "      <th>K</th>\n",
              "      <th>temperature</th>\n",
              "      <th>humidity</th>\n",
              "      <th>ph</th>\n",
              "      <th>rainfall</th>\n",
              "      <th>label</th>\n",
              "    </tr>\n",
              "  </thead>\n",
              "  <tbody>\n",
              "    <tr>\n",
              "      <th>0</th>\n",
              "      <td>90</td>\n",
              "      <td>42</td>\n",
              "      <td>43</td>\n",
              "      <td>20.879744</td>\n",
              "      <td>82.002744</td>\n",
              "      <td>6.502985</td>\n",
              "      <td>202.935536</td>\n",
              "      <td>rice</td>\n",
              "    </tr>\n",
              "    <tr>\n",
              "      <th>1</th>\n",
              "      <td>85</td>\n",
              "      <td>58</td>\n",
              "      <td>41</td>\n",
              "      <td>21.770462</td>\n",
              "      <td>80.319644</td>\n",
              "      <td>7.038096</td>\n",
              "      <td>226.655537</td>\n",
              "      <td>rice</td>\n",
              "    </tr>\n",
              "    <tr>\n",
              "      <th>2</th>\n",
              "      <td>60</td>\n",
              "      <td>55</td>\n",
              "      <td>44</td>\n",
              "      <td>23.004459</td>\n",
              "      <td>82.320763</td>\n",
              "      <td>7.840207</td>\n",
              "      <td>263.964248</td>\n",
              "      <td>rice</td>\n",
              "    </tr>\n",
              "    <tr>\n",
              "      <th>3</th>\n",
              "      <td>74</td>\n",
              "      <td>35</td>\n",
              "      <td>40</td>\n",
              "      <td>26.491096</td>\n",
              "      <td>80.158363</td>\n",
              "      <td>6.980401</td>\n",
              "      <td>242.864034</td>\n",
              "      <td>rice</td>\n",
              "    </tr>\n",
              "    <tr>\n",
              "      <th>4</th>\n",
              "      <td>78</td>\n",
              "      <td>42</td>\n",
              "      <td>42</td>\n",
              "      <td>20.130175</td>\n",
              "      <td>81.604873</td>\n",
              "      <td>7.628473</td>\n",
              "      <td>262.717340</td>\n",
              "      <td>rice</td>\n",
              "    </tr>\n",
              "  </tbody>\n",
              "</table>\n",
              "</div>"
            ],
            "text/plain": [
              "    N   P   K  temperature   humidity        ph    rainfall label\n",
              "0  90  42  43    20.879744  82.002744  6.502985  202.935536  rice\n",
              "1  85  58  41    21.770462  80.319644  7.038096  226.655537  rice\n",
              "2  60  55  44    23.004459  82.320763  7.840207  263.964248  rice\n",
              "3  74  35  40    26.491096  80.158363  6.980401  242.864034  rice\n",
              "4  78  42  42    20.130175  81.604873  7.628473  262.717340  rice"
            ]
          },
          "metadata": {
            "tags": []
          },
          "execution_count": 3
        }
      ]
    },
    {
      "cell_type": "code",
      "metadata": {
        "colab": {
          "base_uri": "https://localhost:8080/"
        },
        "id": "_X2ONj_2zys8",
        "outputId": "7bf5fabf-b153-411e-ef5b-da0a691797f9"
      },
      "source": [
        "# check for Missing values in the dataset\n",
        "print(data.isnull().sum())\n",
        "print(\"There are no missing value in the dataset\")"
      ],
      "execution_count": 4,
      "outputs": [
        {
          "output_type": "stream",
          "text": [
            "N              0\n",
            "P              0\n",
            "K              0\n",
            "temperature    0\n",
            "humidity       0\n",
            "ph             0\n",
            "rainfall       0\n",
            "label          0\n",
            "dtype: int64\n",
            "There are no missing value in the dataset\n"
          ],
          "name": "stdout"
        }
      ]
    },
    {
      "cell_type": "code",
      "metadata": {
        "colab": {
          "base_uri": "https://localhost:8080/"
        },
        "id": "N92B8cZxxaGu",
        "outputId": "04639057-ae0e-4d60-e348-1c50b82749b7"
      },
      "source": [
        "# check the crops present in this dataset\n",
        "print(data['label'].value_counts())\n",
        "\n",
        "print(\"Number of classes: \", data['label'].nunique())"
      ],
      "execution_count": 5,
      "outputs": [
        {
          "output_type": "stream",
          "text": [
            "jute           100\n",
            "pomegranate    100\n",
            "rice           100\n",
            "blackgram      100\n",
            "mungbean       100\n",
            "papaya         100\n",
            "apple          100\n",
            "pigeonpeas     100\n",
            "coffee         100\n",
            "banana         100\n",
            "muskmelon      100\n",
            "mango          100\n",
            "maize          100\n",
            "chickpea       100\n",
            "kidneybeans    100\n",
            "cotton         100\n",
            "grapes         100\n",
            "orange         100\n",
            "watermelon     100\n",
            "lentil         100\n",
            "coconut        100\n",
            "mothbeans      100\n",
            "Name: label, dtype: int64\n",
            "Number of classes:  22\n"
          ],
          "name": "stdout"
        }
      ]
    },
    {
      "cell_type": "markdown",
      "metadata": {
        "id": "F3ehatP6zIr1"
      },
      "source": [
        "# Descriptive Statistics"
      ]
    },
    {
      "cell_type": "code",
      "metadata": {
        "colab": {
          "base_uri": "https://localhost:8080/"
        },
        "id": "FTEdN6YZzBNp",
        "outputId": "24f92f08-92bb-43fe-d7ee-ab301cc63842"
      },
      "source": [
        "# calculate different stastistical values that desctibes the dataset such as min, mean etc.\n",
        "# data.describe() \n",
        "\n",
        "# calculate mean of each columns\n",
        "data.mean()"
      ],
      "execution_count": 6,
      "outputs": [
        {
          "output_type": "execute_result",
          "data": {
            "text/plain": [
              "N               50.551818\n",
              "P               53.362727\n",
              "K               48.149091\n",
              "temperature     25.616244\n",
              "humidity        71.481779\n",
              "ph               6.469480\n",
              "rainfall       103.463655\n",
              "dtype: float64"
            ]
          },
          "metadata": {
            "tags": []
          },
          "execution_count": 6
        }
      ]
    },
    {
      "cell_type": "code",
      "metadata": {
        "colab": {
          "base_uri": "https://localhost:8080/",
          "height": 644,
          "referenced_widgets": [
            "dd85413ed5564d5185d0bc0b0edc1660",
            "1481f629f3424d19a9587a6d4e667775",
            "127e4d06968f4f11a732c956d0c0b04f",
            "03d291a5bc43434b873ed1be24256252",
            "0d2a93eac11f4132bc4fc2b9068e8e59",
            "ae924674ebc14ff585610092c06f83de",
            "17b50390649644938266cf0bc8797002"
          ]
        },
        "id": "mmTT_ZfJ0GyQ",
        "outputId": "e6f8b37e-a0d2-4b11-f6cf-8c9e53f04a4a"
      },
      "source": [
        "# Check the summary statistics for each of the crops\n",
        "\n",
        "@interact\n",
        "def summary(crops = list(data['label'].value_counts().index)):\n",
        "  x = data[data['label'] == crops]\n",
        "  print(\"---------------------------------------------------\")\n",
        "  print(\"Statistic for Nitrogen\")\n",
        "  print(\"Min:\", x['N'].min())\n",
        "  print(\"Mean:\", x['N'].mean())\n",
        "  print(\"Max:\", x['N'].max())\n",
        "  print(\"---------------------------------------------------\")\n",
        "  print(\"Statistic for Phosphorus\")\n",
        "  print(\"Min:\", x['P'].min())\n",
        "  print(\"Mean:\", x['P'].mean())\n",
        "  print(\"Max:\", x['P'].max())\n",
        "  print(\"---------------------------------------------------\")\n",
        "  print(\"Statistic for Potassium\")\n",
        "  print(\"Min:\", x['K'].min())\n",
        "  print(\"Mean:\", x['K'].mean())\n",
        "  print(\"Max:\", x['K'].max())\n",
        "  print(\"---------------------------------------------------\")\n",
        "  print(\"Statistic for Temperature\")\n",
        "  print(\"Min: {0:.2f}\".format(x['temperature'].min()))\n",
        "  print(\"Mean: {0:.2f}\".format(x['temperature'].mean()))\n",
        "  print(\"Max: {0:.2f}\".format(x['temperature'].max()))\n",
        "  print(\"---------------------------------------------------\")\n",
        "  print(\"Statistic for Humidity\")\n",
        "  print(\"Min: {0:.2f}\".format(x['humidity'].min()))\n",
        "  print(\"Mean: {0:.2f}\".format(x['humidity'].mean()))\n",
        "  print(\"Max: {0:.2f}\".format(x['humidity'].max()))\n",
        "  print(\"---------------------------------------------------\")\n",
        "  print(\"Statistic for PH\")\n",
        "  print(\"Min: {0:.2f}\".format(x['ph'].min()))\n",
        "  print(\"Mean: {0:.2f}\".format(x['ph'].mean()))\n",
        "  print(\"Max: {0:.2f}\".format(x['ph'].max()))\n",
        "  print(\"---------------------------------------------------\")\n",
        "  print(\"Statistic for Rainfall\")\n",
        "  print(\"Min: {0:.2f}\".format(x['rainfall'].min()))\n",
        "  print(\"Mean: {0:.2f}\".format(x['rainfall'].mean()))\n",
        "  print(\"Max: {0:.2f}\".format(x['rainfall'].max()))"
      ],
      "execution_count": 7,
      "outputs": [
        {
          "output_type": "display_data",
          "data": {
            "application/vnd.jupyter.widget-view+json": {
              "model_id": "dd85413ed5564d5185d0bc0b0edc1660",
              "version_minor": 0,
              "version_major": 2
            },
            "text/plain": [
              "interactive(children=(Dropdown(description='crops', options=('jute', 'pomegranate', 'rice', 'blackgram', 'mung…"
            ]
          },
          "metadata": {
            "tags": []
          }
        }
      ]
    },
    {
      "cell_type": "code",
      "metadata": {
        "colab": {
          "base_uri": "https://localhost:8080/",
          "height": 457,
          "referenced_widgets": [
            "b86c8a3bc10745008b2beeb4e98ff2ca",
            "a870758efa0844c3932365cd9c67b0ce",
            "44306eefe2d645cda77a5b2b3f8c01dc",
            "c7a23bed4f8044e8b64dc39b00762b55",
            "9158b0dad5f34846b9b3d53d17b0abb5",
            "de7043c19bb647a8a8bb9dfc9a3ad95a",
            "dda7ce21a4ed44589f3d7787919c2f17"
          ]
        },
        "id": "2aa4c1JK4sGx",
        "outputId": "ac3dcbff-3465-497a-f597-16e16461b95c"
      },
      "source": [
        "# Compare Average Requirements for each crops with average condition\n",
        "\n",
        "# get all the name of plants\n",
        "plants = data['label'].unique()\n",
        "\n",
        "@interact\n",
        "def compare(conditions = ['N', 'P', 'K', 'temperature', 'ph', 'humidity', 'rainfall']):\n",
        "  print(\"Avg val for \", conditions, \"is {0: .2f}\".format(data[conditions].mean()))\n",
        "  print(\"---------------------------------------\")\n",
        "  for plant in plants:\n",
        "    print(plant, \": {0:.2f}\".format(data[(data['label'] == plant)][conditions].mean()))"
      ],
      "execution_count": 8,
      "outputs": [
        {
          "output_type": "display_data",
          "data": {
            "application/vnd.jupyter.widget-view+json": {
              "model_id": "b86c8a3bc10745008b2beeb4e98ff2ca",
              "version_minor": 0,
              "version_major": 2
            },
            "text/plain": [
              "interactive(children=(Dropdown(description='conditions', options=('N', 'P', 'K', 'temperature', 'ph', 'humidit…"
            ]
          },
          "metadata": {
            "tags": []
          }
        }
      ]
    },
    {
      "cell_type": "code",
      "metadata": {
        "colab": {
          "base_uri": "https://localhost:8080/",
          "height": 219,
          "referenced_widgets": [
            "d88205edcc8b42ddae3b235566487b74",
            "2c49cbe8609d4d02b428d89cae4aa9d0",
            "b3d11ffb881c4f03a2246be38cb82fae",
            "5e408318d4b8459295c40b5da7820526",
            "315b32fe05364dac9d6c2a3718876716",
            "e7209c54465344febec909beac711509",
            "a4c1c041a8e34a26802d0f4832484a63"
          ]
        },
        "id": "rVf10gqb86r5",
        "outputId": "b2d958a6-be87-433e-d4ae-2f97d2c57b1a"
      },
      "source": [
        "# check which crops requre greter or lesser than avg for each conditions\n",
        "\n",
        "@interact\n",
        "def compare(conditions = ['N', 'P', 'K', 'temperature', 'ph', 'humidity', 'rainfall']):\n",
        "  print(\"Crops require greater than avg\", conditions, \"\\n\")\n",
        "  print(data[data[conditions] > data[conditions].mean()]['label'].unique())\n",
        "  print(\"--------------------------------------------\")\n",
        "  print(\"Crops require lesser than avg\", conditions, \"\\n\")\n",
        "  print(data[data[conditions] <= data[conditions].mean()]['label'].unique())\n",
        "  \n"
      ],
      "execution_count": 9,
      "outputs": [
        {
          "output_type": "display_data",
          "data": {
            "application/vnd.jupyter.widget-view+json": {
              "model_id": "d88205edcc8b42ddae3b235566487b74",
              "version_minor": 0,
              "version_major": 2
            },
            "text/plain": [
              "interactive(children=(Dropdown(description='conditions', options=('N', 'P', 'K', 'temperature', 'ph', 'humidit…"
            ]
          },
          "metadata": {
            "tags": []
          }
        }
      ]
    },
    {
      "cell_type": "code",
      "metadata": {
        "colab": {
          "base_uri": "https://localhost:8080/",
          "height": 896
        },
        "id": "I_crjs4O9jgw",
        "outputId": "c9028b5b-9381-4396-d6fa-605d43aac05c"
      },
      "source": [
        "# plot the distribution graph\n",
        "plt.rcParams['figure.figsize'] = (15,10)\n",
        "\n",
        "plt.subplot(2, 4, 1)\n",
        "sns.distplot(data['N'], color = 'lightgrey')\n",
        "plt.xlabel(\"Nitrogen\", fontsize = 12)\n",
        "plt.grid()\n",
        "\n",
        "plt.subplot(2, 4, 2)\n",
        "sns.distplot(data['P'], color = 'blue')\n",
        "plt.xlabel(\"phosphorus\", fontsize = 12)\n",
        "plt.grid()\n",
        "\n",
        "plt.subplot(2, 4, 3)\n",
        "sns.distplot(data['K'], color = 'darkblue')\n",
        "plt.xlabel(\"Potassium\", fontsize = 12)\n",
        "plt.grid()\n",
        "\n",
        "\n",
        "plt.subplot(2, 4, 4)\n",
        "sns.distplot(data['temperature'], color = 'black')\n",
        "plt.xlabel(\"Temperature\", fontsize = 12)\n",
        "plt.grid()\n",
        "\n",
        "plt.subplot(2, 4, 5)\n",
        "sns.distplot(data['rainfall'], color = 'grey')\n",
        "plt.xlabel(\"Rainfall\", fontsize = 12)\n",
        "plt.grid()\n",
        "\n",
        "plt.subplot(2, 4, 6)\n",
        "sns.distplot(data['humidity'], color = 'lightgreen')\n",
        "plt.xlabel(\"Humidity\", fontsize = 12)\n",
        "plt.grid()\n",
        "\n",
        "plt.subplot(2, 4, 7)\n",
        "sns.distplot(data['ph'], color = 'darkgreen')\n",
        "plt.xlabel(\"pH\", fontsize = 12)\n",
        "plt.grid()\n",
        "\n",
        "plt.suptitle(\"Distribution for Agricultural Conditions\", fontsize = 20)\n",
        "plt.show()"
      ],
      "execution_count": 10,
      "outputs": [
        {
          "output_type": "stream",
          "text": [
            "/usr/local/lib/python3.7/dist-packages/seaborn/distributions.py:2557: FutureWarning: `distplot` is a deprecated function and will be removed in a future version. Please adapt your code to use either `displot` (a figure-level function with similar flexibility) or `histplot` (an axes-level function for histograms).\n",
            "  warnings.warn(msg, FutureWarning)\n",
            "/usr/local/lib/python3.7/dist-packages/seaborn/distributions.py:2557: FutureWarning: `distplot` is a deprecated function and will be removed in a future version. Please adapt your code to use either `displot` (a figure-level function with similar flexibility) or `histplot` (an axes-level function for histograms).\n",
            "  warnings.warn(msg, FutureWarning)\n",
            "/usr/local/lib/python3.7/dist-packages/seaborn/distributions.py:2557: FutureWarning: `distplot` is a deprecated function and will be removed in a future version. Please adapt your code to use either `displot` (a figure-level function with similar flexibility) or `histplot` (an axes-level function for histograms).\n",
            "  warnings.warn(msg, FutureWarning)\n",
            "/usr/local/lib/python3.7/dist-packages/seaborn/distributions.py:2557: FutureWarning: `distplot` is a deprecated function and will be removed in a future version. Please adapt your code to use either `displot` (a figure-level function with similar flexibility) or `histplot` (an axes-level function for histograms).\n",
            "  warnings.warn(msg, FutureWarning)\n",
            "/usr/local/lib/python3.7/dist-packages/seaborn/distributions.py:2557: FutureWarning: `distplot` is a deprecated function and will be removed in a future version. Please adapt your code to use either `displot` (a figure-level function with similar flexibility) or `histplot` (an axes-level function for histograms).\n",
            "  warnings.warn(msg, FutureWarning)\n",
            "/usr/local/lib/python3.7/dist-packages/seaborn/distributions.py:2557: FutureWarning: `distplot` is a deprecated function and will be removed in a future version. Please adapt your code to use either `displot` (a figure-level function with similar flexibility) or `histplot` (an axes-level function for histograms).\n",
            "  warnings.warn(msg, FutureWarning)\n",
            "/usr/local/lib/python3.7/dist-packages/seaborn/distributions.py:2557: FutureWarning: `distplot` is a deprecated function and will be removed in a future version. Please adapt your code to use either `displot` (a figure-level function with similar flexibility) or `histplot` (an axes-level function for histograms).\n",
            "  warnings.warn(msg, FutureWarning)\n"
          ],
          "name": "stderr"
        },
        {
          "output_type": "display_data",
          "data": {
            "image/png": "[encoded data removed]",
            "text/plain": [
              "<Figure size 1080x720 with 7 Axes>"
            ]
          },
          "metadata": {
            "tags": [],
            "needs_background": "light"
          }
        }
      ]
    },
    {
      "cell_type": "markdown",
      "metadata": {
        "id": "5VKc83zDR0pi"
      },
      "source": [
        "## Distribution Graph\n",
        "From the distribution graph above, we can conclude that the distribution of **Potassium** is right-skewed, **Rainfall** is left-skewed and the other conditions are normally distributed."
      ]
    },
    {
      "cell_type": "markdown",
      "metadata": {
        "id": "yskkg5-VZj3b"
      },
      "source": [
        "# Analyzing Agricultural Conditions"
      ]
    },
    {
      "cell_type": "code",
      "metadata": {
        "colab": {
          "base_uri": "https://localhost:8080/"
        },
        "id": "ugt3TPsvZhSw",
        "outputId": "459610dd-0a93-432a-f15a-e1a9db49a533"
      },
      "source": [
        "print(\"Crops that requires very High Ratio of Nitrogen Content\", data[data[\"N\"] > 120][\"label\"].unique())\n",
        "print(\"Crops that requires very High Ratio of Phosphorous Content\", data[data[\"P\"] > 100][\"label\"].unique())\n",
        "print(\"Crops that requires very High Ratio of Potassium Content\", data[data[\"K\"] > 200][\"label\"].unique())\n",
        "print(\"Crops that requires very High Rainfall\", data[data[\"rainfall\"] > 200][\"label\"].unique())\n",
        "print(\"Crops that requires very Low Temperature\", data[data[\"temperature\"] < 10][\"label\"].unique())\n",
        "print(\"Crops that requires very High Temperature\", data[data[\"temperature\"] > 40][\"label\"].unique())\n",
        "print(\"Crops that requires very Low Humidity\", data[data[\"humidity\"] < 20][\"label\"].unique())\n",
        "print(\"Crops that requires very Low pH\", data[data[\"ph\"] < 4][\"label\"].unique())\n",
        "print(\"Crops that requires very High pH\", data[data[\"ph\"] > 9][\"label\"].unique())"
      ],
      "execution_count": 11,
      "outputs": [
        {
          "output_type": "stream",
          "text": [
            "Crops that requires very High Ratio of Nitrogen Content ['cotton']\n",
            "Crops that requires very High Ratio of Phosphorous Content ['grapes' 'apple']\n",
            "Crops that requires very High Ratio of Potassium Content ['grapes' 'apple']\n",
            "Crops that requires very High Rainfall ['rice' 'papaya' 'coconut']\n",
            "Crops that requires very Low Temperature ['grapes']\n",
            "Crops that requires very High Temperature ['grapes' 'papaya']\n",
            "Crops that requires very Low Humidity ['chickpea' 'kidneybeans']\n",
            "Crops that requires very Low pH ['mothbeans']\n",
            "Crops that requires very High pH ['mothbeans']\n"
          ],
          "name": "stdout"
        }
      ]
    },
    {
      "cell_type": "code",
      "metadata": {
        "colab": {
          "base_uri": "https://localhost:8080/"
        },
        "id": "F2rI09OCTaA9",
        "outputId": "33c84fc7-82b0-48af-844c-003f60427e7b"
      },
      "source": [
        "# check which crops can be grown during different season\n",
        "print(\"Summer Crops\")\n",
        "print(data[(data[\"temperature\"] > 30) & (data[\"humidity\"] > 50)]['label'].unique())\n",
        "print(\"-----------------------\")\n",
        "print(\"Winter Crops\")\n",
        "print(data[(data[\"temperature\"] < 20) & (data[\"humidity\"] > 30)]['label'].unique())\n",
        "print(\"-----------------------\")\n",
        "print(\"Rainy Crops\")\n",
        "print(data[(data[\"rainfall\"] > 200) & (data[\"humidity\"] > 30)]['label'].unique())"
      ],
      "execution_count": 12,
      "outputs": [
        {
          "output_type": "stream",
          "text": [
            "Summer Crops\n",
            "['pigeonpeas' 'mothbeans' 'blackgram' 'mango' 'grapes' 'orange' 'papaya']\n",
            "-----------------------\n",
            "Winter Crops\n",
            "['maize' 'pigeonpeas' 'lentil' 'pomegranate' 'grapes' 'orange']\n",
            "-----------------------\n",
            "Rainy Crops\n",
            "['rice' 'papaya' 'coconut']\n"
          ],
          "name": "stdout"
        }
      ]
    },
    {
      "cell_type": "markdown",
      "metadata": {
        "id": "xdKkGeYS5ade"
      },
      "source": [
        "# Clustering Similar Crops"
      ]
    },
    {
      "cell_type": "code",
      "metadata": {
        "colab": {
          "base_uri": "https://localhost:8080/",
          "height": 221
        },
        "id": "B7z_O9vY5dqF",
        "outputId": "f6f54db1-e13a-4ae0-ffc0-39a452f1fb88"
      },
      "source": [
        "import warnings\n",
        "warnings.filterwarnings('ignore')\n",
        "\n",
        "x = data.loc[:, ['N', 'P', 'K', 'temperature', 'ph', 'humidity', 'rainfall']].values\n",
        "print(x.shape)\n",
        "\n",
        "x_data = pd.DataFrame(x)\n",
        "x_data.head()"
      ],
      "execution_count": 13,
      "outputs": [
        {
          "output_type": "stream",
          "text": [
            "(2200, 7)\n"
          ],
          "name": "stdout"
        },
        {
          "output_type": "execute_result",
          "data": {
            "text/html": [
              "<div>\n",
              "<style scoped>\n",
              "    .dataframe tbody tr th:only-of-type {\n",
              "        vertical-align: middle;\n",
              "    }\n",
              "\n",
              "    .dataframe tbody tr th {\n",
              "        vertical-align: top;\n",
              "    }\n",
              "\n",
              "    .dataframe thead th {\n",
              "        text-align: right;\n",
              "    }\n",
              "</style>\n",
              "<table border=\"1\" class=\"dataframe\">\n",
              "  <thead>\n",
              "    <tr style=\"text-align: right;\">\n",
              "      <th></th>\n",
              "      <th>0</th>\n",
              "      <th>1</th>\n",
              "      <th>2</th>\n",
              "      <th>3</th>\n",
              "      <th>4</th>\n",
              "      <th>5</th>\n",
              "      <th>6</th>\n",
              "    </tr>\n",
              "  </thead>\n",
              "  <tbody>\n",
              "    <tr>\n",
              "      <th>0</th>\n",
              "      <td>90.0</td>\n",
              "      <td>42.0</td>\n",
              "      <td>43.0</td>\n",
              "      <td>20.879744</td>\n",
              "      <td>6.502985</td>\n",
              "      <td>82.002744</td>\n",
              "      <td>202.935536</td>\n",
              "    </tr>\n",
              "    <tr>\n",
              "      <th>1</th>\n",
              "      <td>85.0</td>\n",
              "      <td>58.0</td>\n",
              "      <td>41.0</td>\n",
              "      <td>21.770462</td>\n",
              "      <td>7.038096</td>\n",
              "      <td>80.319644</td>\n",
              "      <td>226.655537</td>\n",
              "    </tr>\n",
              "    <tr>\n",
              "      <th>2</th>\n",
              "      <td>60.0</td>\n",
              "      <td>55.0</td>\n",
              "      <td>44.0</td>\n",
              "      <td>23.004459</td>\n",
              "      <td>7.840207</td>\n",
              "      <td>82.320763</td>\n",
              "      <td>263.964248</td>\n",
              "    </tr>\n",
              "    <tr>\n",
              "      <th>3</th>\n",
              "      <td>74.0</td>\n",
              "      <td>35.0</td>\n",
              "      <td>40.0</td>\n",
              "      <td>26.491096</td>\n",
              "      <td>6.980401</td>\n",
              "      <td>80.158363</td>\n",
              "      <td>242.864034</td>\n",
              "    </tr>\n",
              "    <tr>\n",
              "      <th>4</th>\n",
              "      <td>78.0</td>\n",
              "      <td>42.0</td>\n",
              "      <td>42.0</td>\n",
              "      <td>20.130175</td>\n",
              "      <td>7.628473</td>\n",
              "      <td>81.604873</td>\n",
              "      <td>262.717340</td>\n",
              "    </tr>\n",
              "  </tbody>\n",
              "</table>\n",
              "</div>"
            ],
            "text/plain": [
              "      0     1     2          3         4          5           6\n",
              "0  90.0  42.0  43.0  20.879744  6.502985  82.002744  202.935536\n",
              "1  85.0  58.0  41.0  21.770462  7.038096  80.319644  226.655537\n",
              "2  60.0  55.0  44.0  23.004459  7.840207  82.320763  263.964248\n",
              "3  74.0  35.0  40.0  26.491096  6.980401  80.158363  242.864034\n",
              "4  78.0  42.0  42.0  20.130175  7.628473  81.604873  262.717340"
            ]
          },
          "metadata": {
            "tags": []
          },
          "execution_count": 13
        }
      ]
    },
    {
      "cell_type": "code",
      "metadata": {
        "colab": {
          "base_uri": "https://localhost:8080/",
          "height": 300
        },
        "id": "J0Ds_ZbI7Vuv",
        "outputId": "cc61dde2-0860-4030-889c-abf94fddf1e1"
      },
      "source": [
        "from sklearn.cluster import KMeans\n",
        "plt.rcParams['figure.figsize'] = (10, 4)\n",
        "\n",
        "wcss = []\n",
        "for i in range(1, 11):\n",
        "  km = KMeans(n_clusters = i, init = 'k-means++', max_iter = 300, n_init = 10, random_state = 0)\n",
        "  km.fit(x)\n",
        "  wcss.append(km.inertia_)\n",
        "\n",
        "plt.plot(range(1, 11), wcss)\n",
        "plt.title('The Elbow Method', fontsize = 20)\n",
        "plt.xlabel('No. of Clusters')\n",
        "plt.ylabel('wcss')\n",
        "plt.show()"
      ],
      "execution_count": 14,
      "outputs": [
        {
          "output_type": "display_data",
          "data": {
            "image/png": "[encoded data removed]",
            "text/plain": [
              "<Figure size 720x288 with 1 Axes>"
            ]
          },
          "metadata": {
            "tags": [],
            "needs_background": "light"
          }
        }
      ]
    },
    {
      "cell_type": "code",
      "metadata": {
        "id": "olP6lRxw9B1N"
      },
      "source": [
        "# based on the Elbow Method Graph, we choose K = 4\n",
        "\n",
        "km = KMeans(n_clusters = 4, init = 'k-means++', max_iter = 300, n_init = 10, random_state = 0)\n",
        "y_means = km.fit_predict(x)\n",
        "\n",
        "a = data['label']\n",
        "y_means = pd.DataFrame(y_means)\n",
        "z = pd.concat([y_means, a], axis = 1)\n",
        "z = z.rename(columns = {0: 'cluster'})"
      ],
      "execution_count": 15,
      "outputs": []
    },
    {
      "cell_type": "code",
      "metadata": {
        "colab": {
          "base_uri": "https://localhost:8080/",
          "height": 419
        },
        "id": "XFyw1B2B91P1",
        "outputId": "3b5d71f9-0d31-42e6-9efb-a91f5db0e0c5"
      },
      "source": [
        "z"
      ],
      "execution_count": 16,
      "outputs": [
        {
          "output_type": "execute_result",
          "data": {
            "text/html": [
              "<div>\n",
              "<style scoped>\n",
              "    .dataframe tbody tr th:only-of-type {\n",
              "        vertical-align: middle;\n",
              "    }\n",
              "\n",
              "    .dataframe tbody tr th {\n",
              "        vertical-align: top;\n",
              "    }\n",
              "\n",
              "    .dataframe thead th {\n",
              "        text-align: right;\n",
              "    }\n",
              "</style>\n",
              "<table border=\"1\" class=\"dataframe\">\n",
              "  <thead>\n",
              "    <tr style=\"text-align: right;\">\n",
              "      <th></th>\n",
              "      <th>cluster</th>\n",
              "      <th>label</th>\n",
              "    </tr>\n",
              "  </thead>\n",
              "  <tbody>\n",
              "    <tr>\n",
              "      <th>0</th>\n",
              "      <td>3</td>\n",
              "      <td>rice</td>\n",
              "    </tr>\n",
              "    <tr>\n",
              "      <th>1</th>\n",
              "      <td>3</td>\n",
              "      <td>rice</td>\n",
              "    </tr>\n",
              "    <tr>\n",
              "      <th>2</th>\n",
              "      <td>3</td>\n",
              "      <td>rice</td>\n",
              "    </tr>\n",
              "    <tr>\n",
              "      <th>3</th>\n",
              "      <td>3</td>\n",
              "      <td>rice</td>\n",
              "    </tr>\n",
              "    <tr>\n",
              "      <th>4</th>\n",
              "      <td>3</td>\n",
              "      <td>rice</td>\n",
              "    </tr>\n",
              "    <tr>\n",
              "      <th>...</th>\n",
              "      <td>...</td>\n",
              "      <td>...</td>\n",
              "    </tr>\n",
              "    <tr>\n",
              "      <th>2195</th>\n",
              "      <td>3</td>\n",
              "      <td>coffee</td>\n",
              "    </tr>\n",
              "    <tr>\n",
              "      <th>2196</th>\n",
              "      <td>2</td>\n",
              "      <td>coffee</td>\n",
              "    </tr>\n",
              "    <tr>\n",
              "      <th>2197</th>\n",
              "      <td>3</td>\n",
              "      <td>coffee</td>\n",
              "    </tr>\n",
              "    <tr>\n",
              "      <th>2198</th>\n",
              "      <td>2</td>\n",
              "      <td>coffee</td>\n",
              "    </tr>\n",
              "    <tr>\n",
              "      <th>2199</th>\n",
              "      <td>3</td>\n",
              "      <td>coffee</td>\n",
              "    </tr>\n",
              "  </tbody>\n",
              "</table>\n",
              "<p>2200 rows × 2 columns</p>\n",
              "</div>"
            ],
            "text/plain": [
              "      cluster   label\n",
              "0           3    rice\n",
              "1           3    rice\n",
              "2           3    rice\n",
              "3           3    rice\n",
              "4           3    rice\n",
              "...       ...     ...\n",
              "2195        3  coffee\n",
              "2196        2  coffee\n",
              "2197        3  coffee\n",
              "2198        2  coffee\n",
              "2199        3  coffee\n",
              "\n",
              "[2200 rows x 2 columns]"
            ]
          },
          "metadata": {
            "tags": []
          },
          "execution_count": 16
        }
      ]
    },
    {
      "cell_type": "code",
      "metadata": {
        "colab": {
          "base_uri": "https://localhost:8080/"
        },
        "id": "xmNLsqEr95q1",
        "outputId": "81ae4ffb-0450-4088-8e77-b37a91da907c"
      },
      "source": [
        "print(\"Cluster 1\", z[z['cluster'] == 0]['label'].unique())\n",
        "print(\"Cluster 2\", z[z['cluster'] == 1]['label'].unique())\n",
        "print(\"Cluster 3\", z[z['cluster'] == 2]['label'].unique())\n",
        "print(\"Cluster 4\", z[z['cluster'] == 3]['label'].unique())"
      ],
      "execution_count": 17,
      "outputs": [
        {
          "output_type": "stream",
          "text": [
            "Cluster 1 ['maize' 'chickpea' 'kidneybeans' 'pigeonpeas' 'mothbeans' 'mungbean'\n",
            " 'blackgram' 'lentil' 'pomegranate' 'mango' 'orange' 'papaya' 'coconut']\n",
            "Cluster 2 ['grapes' 'apple']\n",
            "Cluster 3 ['maize' 'banana' 'watermelon' 'muskmelon' 'papaya' 'cotton' 'coffee']\n",
            "Cluster 4 ['rice' 'pigeonpeas' 'papaya' 'coconut' 'jute' 'coffee']\n"
          ],
          "name": "stdout"
        }
      ]
    },
    {
      "cell_type": "code",
      "metadata": {
        "colab": {
          "base_uri": "https://localhost:8080/"
        },
        "id": "4nUz6929-TjF",
        "outputId": "26fc1426-0bd2-4eb2-c633-c14e2356bfa4"
      },
      "source": [
        "# as some crops belongs to multiple cluster (soft clustering)\n",
        "# we perform hard clustering where a crop that has more than 50\n",
        "# of belonging to the same cluster, then it is completely belongs to that cluster \n",
        "\n",
        "print(\"Hard Clustering\")\n",
        "counts = z[z['cluster'] == 0]['label'].value_counts()\n",
        "d = z.loc[z['label'].isin(counts.index[counts >= 50])]\n",
        "d = d['label'].value_counts()\n",
        "print(\"Cluster 1\", list(d.index))\n",
        "\n",
        "counts = z[z['cluster'] == 1]['label'].value_counts()\n",
        "d = z.loc[z['label'].isin(counts.index[counts >= 50])]\n",
        "d = d['label'].value_counts()\n",
        "print(\"Cluster 2\", list(d.index))\n",
        "\n",
        "counts = z[z['cluster'] == 2]['label'].value_counts()\n",
        "d = z.loc[z['label'].isin(counts.index[counts >= 50])]\n",
        "d = d['label'].value_counts()\n",
        "print(\"Cluster 3\", list(d.index))\n",
        "\n",
        "counts = z[z['cluster'] == 3]['label'].value_counts()\n",
        "d = z.loc[z['label'].isin(counts.index[counts >= 50])]\n",
        "d = d['label'].value_counts()\n",
        "print(\"Cluster 4\", list(d.index))"
      ],
      "execution_count": 18,
      "outputs": [
        {
          "output_type": "stream",
          "text": [
            "Hard Clustering\n",
            "Cluster 1 ['kidneybeans', 'chickpea', 'pomegranate', 'mango', 'lentil', 'orange', 'mungbean', 'blackgram', 'mothbeans']\n",
            "Cluster 2 ['apple', 'grapes']\n",
            "Cluster 3 ['watermelon', 'maize', 'muskmelon', 'cotton', 'banana']\n",
            "Cluster 4 ['pigeonpeas', 'jute', 'coconut', 'papaya', 'rice', 'coffee']\n"
          ],
          "name": "stdout"
        }
      ]
    },
    {
      "cell_type": "markdown",
      "metadata": {
        "id": "WYb_RRTmbNK9"
      },
      "source": [
        "# Visualizing the Hidden Patterns"
      ]
    },
    {
      "cell_type": "code",
      "metadata": {
        "colab": {
          "base_uri": "https://localhost:8080/",
          "height": 694
        },
        "id": "tFLqVKV5bUHG",
        "outputId": "2f57cb4c-3880-40f7-80b2-8142a790cf6c"
      },
      "source": [
        "# plot the distribution graph\n",
        "plt.rcParams['figure.figsize'] = (15,10)\n",
        "\n",
        "plt.subplot(2, 4, 1)\n",
        "sns.barplot(data['N'], data['label'])\n",
        "plt.xlabel(\"Nitrogen\", fontsize = 10)\n",
        "plt.yticks(fontsize = 10)\n",
        "\n",
        "plt.subplot(2, 4, 2)\n",
        "sns.barplot(data['P'], data['label'])\n",
        "plt.xlabel(\"Phosphorous\", fontsize = 10)\n",
        "plt.yticks(fontsize = 10)\n",
        "\n",
        "plt.subplot(2, 4, 3)\n",
        "sns.barplot(data['K'], data['label'])\n",
        "plt.xlabel(\"Potassium\", fontsize = 10)\n",
        "plt.yticks(fontsize = 10)\n",
        "\n",
        "plt.subplot(2, 4, 4)\n",
        "sns.barplot(data['temperature'], data['label'])\n",
        "plt.xlabel(\"Temperature\", fontsize = 10)\n",
        "plt.yticks(fontsize = 10)\n",
        "\n",
        "plt.subplot(2, 4, 5)\n",
        "sns.barplot(data['rainfall'], data['label'])\n",
        "plt.xlabel(\"Rainfall\", fontsize = 10)\n",
        "plt.yticks(fontsize = 10)\n",
        "\n",
        "plt.subplot(2, 4, 6)\n",
        "sns.barplot(data['humidity'], data['label'])\n",
        "plt.xlabel(\"Humidity\", fontsize = 10)\n",
        "plt.yticks(fontsize = 10)\n",
        "\n",
        "plt.subplot(2, 4, 7)\n",
        "sns.barplot(data['ph'], data['label'])\n",
        "plt.xlabel(\"pH\", fontsize = 10)\n",
        "plt.yticks(fontsize = 10)\n",
        "\n",
        "plt.suptitle(\"Visualizing the Impact of Different Conditions on Crops\", fontsize = 20)\n",
        "plt.show()"
      ],
      "execution_count": 19,
      "outputs": [
        {
          "output_type": "display_data",
          "data": {
            "image/png": "[encoded data removed]",
            "text/plain": [
              "<Figure size 1080x720 with 7 Axes>"
            ]
          },
          "metadata": {
            "tags": [],
            "needs_background": "light"
          }
        }
      ]
    },
    {
      "cell_type": "markdown",
      "metadata": {
        "id": "UN_RbrufKF-L"
      },
      "source": [
        "# Building ML Classification Model"
      ]
    },
    {
      "cell_type": "code",
      "metadata": {
        "colab": {
          "base_uri": "https://localhost:8080/"
        },
        "id": "ftYXn84MKLfa",
        "outputId": "42c1ac08-b5be-419a-9994-279ade71bb38"
      },
      "source": [
        "y = data['label']\n",
        "x = data.drop(['label'], axis = 1)\n",
        "\n",
        "print(\"Shape of x\", x.shape)\n",
        "print(\"Shape of y\", y.shape)"
      ],
      "execution_count": 20,
      "outputs": [
        {
          "output_type": "stream",
          "text": [
            "Shape of x (2200, 7)\n",
            "Shape of y (2200,)\n"
          ],
          "name": "stdout"
        }
      ]
    },
    {
      "cell_type": "code",
      "metadata": {
        "colab": {
          "base_uri": "https://localhost:8080/"
        },
        "id": "zfLbaH_5Kc1Q",
        "outputId": "8e169091-9a8e-4eb4-e765-6ab8682e1e61"
      },
      "source": [
        "# splitting the dataset\n",
        "\n",
        "from sklearn.model_selection import train_test_split\n",
        "\n",
        "x_train, x_test, y_train, y_test = train_test_split(x, y, test_size = 0.2, random_state = 0)\n",
        "\n",
        "print(\"Shape x_train: \", x_train.shape)\n",
        "print(\"Shape x_test: \", x_test.shape)\n",
        "print(\"Shape y_train: \", y_train.shape)\n",
        "print(\"Shape y_test: \", y_test.shape)"
      ],
      "execution_count": 21,
      "outputs": [
        {
          "output_type": "stream",
          "text": [
            "Shape x_train:  (1760, 7)\n",
            "Shape x_test:  (440, 7)\n",
            "Shape y_train:  (1760,)\n",
            "Shape y_test:  (440,)\n"
          ],
          "name": "stdout"
        }
      ]
    },
    {
      "cell_type": "code",
      "metadata": {
        "id": "m_fXbirZKpOu"
      },
      "source": [
        "from sklearn.linear_model import LogisticRegression\n",
        "\n",
        "model = LogisticRegression()\n",
        "model.fit(x_train, y_train)\n",
        "y_pred = model.predict(x_test)"
      ],
      "execution_count": 22,
      "outputs": []
    },
    {
      "cell_type": "code",
      "metadata": {
        "colab": {
          "base_uri": "https://localhost:8080/",
          "height": 1000
        },
        "id": "xNb4hcTLK4T3",
        "outputId": "ac73dca0-47ae-45de-c27a-cd61052a06a7"
      },
      "source": [
        "# evaluate model's performance\n",
        "from sklearn.metrics import classification_report, confusion_matrix\n",
        "\n",
        "# print confusion matrix\n",
        "plt.rcParams['figure.figsize'] = (10, 10)\n",
        "cm = confusion_matrix(y_test, y_pred)\n",
        "sns.heatmap(cm, annot = True, cmap = 'Wistia')\n",
        "plt.title(\"Confusion Matrix for Logistic Regression\", fontsize = 15)\n",
        "plt.show()\n",
        "\n",
        "# classification report\n",
        "cr = classification_report(y_test, y_pred)\n",
        "print(cr)"
      ],
      "execution_count": 23,
      "outputs": [
        {
          "output_type": "display_data",
          "data": {
            "image/png": "[encoded data removed]",
            "text/plain": [
              "<Figure size 720x720 with 2 Axes>"
            ]
          },
          "metadata": {
            "tags": [],
            "needs_background": "light"
          }
        },
        {
          "output_type": "stream",
          "text": [
            "              precision    recall  f1-score   support\n",
            "\n",
            "       apple       1.00      1.00      1.00        18\n",
            "      banana       1.00      1.00      1.00        18\n",
            "   blackgram       0.86      0.82      0.84        22\n",
            "    chickpea       1.00      1.00      1.00        23\n",
            "     coconut       1.00      1.00      1.00        15\n",
            "      coffee       1.00      1.00      1.00        17\n",
            "      cotton       0.89      1.00      0.94        16\n",
            "      grapes       1.00      1.00      1.00        18\n",
            "        jute       0.84      1.00      0.91        21\n",
            " kidneybeans       1.00      1.00      1.00        20\n",
            "      lentil       0.94      0.94      0.94        17\n",
            "       maize       0.94      0.89      0.91        18\n",
            "       mango       1.00      1.00      1.00        21\n",
            "   mothbeans       0.88      0.92      0.90        25\n",
            "    mungbean       1.00      1.00      1.00        17\n",
            "   muskmelon       1.00      1.00      1.00        23\n",
            "      orange       1.00      1.00      1.00        23\n",
            "      papaya       1.00      0.95      0.98        21\n",
            "  pigeonpeas       1.00      1.00      1.00        22\n",
            " pomegranate       1.00      1.00      1.00        23\n",
            "        rice       1.00      0.84      0.91        25\n",
            "  watermelon       1.00      1.00      1.00        17\n",
            "\n",
            "    accuracy                           0.97       440\n",
            "   macro avg       0.97      0.97      0.97       440\n",
            "weighted avg       0.97      0.97      0.97       440\n",
            "\n"
          ],
          "name": "stdout"
        }
      ]
    },
    {
      "cell_type": "markdown",
      "metadata": {
        "id": "aBYDUk4MOaY4"
      },
      "source": [
        "# Real Time Predictions"
      ]
    },
    {
      "cell_type": "code",
      "metadata": {
        "colab": {
          "base_uri": "https://localhost:8080/",
          "height": 204
        },
        "id": "LQylAt1bOdwS",
        "outputId": "08664641-c587-4cf3-82e4-a6e12467b465"
      },
      "source": [
        "data.head()"
      ],
      "execution_count": 24,
      "outputs": [
        {
          "output_type": "execute_result",
          "data": {
            "text/html": [
              "<div>\n",
              "<style scoped>\n",
              "    .dataframe tbody tr th:only-of-type {\n",
              "        vertical-align: middle;\n",
              "    }\n",
              "\n",
              "    .dataframe tbody tr th {\n",
              "        vertical-align: top;\n",
              "    }\n",
              "\n",
              "    .dataframe thead th {\n",
              "        text-align: right;\n",
              "    }\n",
              "</style>\n",
              "<table border=\"1\" class=\"dataframe\">\n",
              "  <thead>\n",
              "    <tr style=\"text-align: right;\">\n",
              "      <th></th>\n",
              "      <th>N</th>\n",
              "      <th>P</th>\n",
              "      <th>K</th>\n",
              "      <th>temperature</th>\n",
              "      <th>humidity</th>\n",
              "      <th>ph</th>\n",
              "      <th>rainfall</th>\n",
              "      <th>label</th>\n",
              "    </tr>\n",
              "  </thead>\n",
              "  <tbody>\n",
              "    <tr>\n",
              "      <th>0</th>\n",
              "      <td>90</td>\n",
              "      <td>42</td>\n",
              "      <td>43</td>\n",
              "      <td>20.879744</td>\n",
              "      <td>82.002744</td>\n",
              "      <td>6.502985</td>\n",
              "      <td>202.935536</td>\n",
              "      <td>rice</td>\n",
              "    </tr>\n",
              "    <tr>\n",
              "      <th>1</th>\n",
              "      <td>85</td>\n",
              "      <td>58</td>\n",
              "      <td>41</td>\n",
              "      <td>21.770462</td>\n",
              "      <td>80.319644</td>\n",
              "      <td>7.038096</td>\n",
              "      <td>226.655537</td>\n",
              "      <td>rice</td>\n",
              "    </tr>\n",
              "    <tr>\n",
              "      <th>2</th>\n",
              "      <td>60</td>\n",
              "      <td>55</td>\n",
              "      <td>44</td>\n",
              "      <td>23.004459</td>\n",
              "      <td>82.320763</td>\n",
              "      <td>7.840207</td>\n",
              "      <td>263.964248</td>\n",
              "      <td>rice</td>\n",
              "    </tr>\n",
              "    <tr>\n",
              "      <th>3</th>\n",
              "      <td>74</td>\n",
              "      <td>35</td>\n",
              "      <td>40</td>\n",
              "      <td>26.491096</td>\n",
              "      <td>80.158363</td>\n",
              "      <td>6.980401</td>\n",
              "      <td>242.864034</td>\n",
              "      <td>rice</td>\n",
              "    </tr>\n",
              "    <tr>\n",
              "      <th>4</th>\n",
              "      <td>78</td>\n",
              "      <td>42</td>\n",
              "      <td>42</td>\n",
              "      <td>20.130175</td>\n",
              "      <td>81.604873</td>\n",
              "      <td>7.628473</td>\n",
              "      <td>262.717340</td>\n",
              "      <td>rice</td>\n",
              "    </tr>\n",
              "  </tbody>\n",
              "</table>\n",
              "</div>"
            ],
            "text/plain": [
              "    N   P   K  temperature   humidity        ph    rainfall label\n",
              "0  90  42  43    20.879744  82.002744  6.502985  202.935536  rice\n",
              "1  85  58  41    21.770462  80.319644  7.038096  226.655537  rice\n",
              "2  60  55  44    23.004459  82.320763  7.840207  263.964248  rice\n",
              "3  74  35  40    26.491096  80.158363  6.980401  242.864034  rice\n",
              "4  78  42  42    20.130175  81.604873  7.628473  262.717340  rice"
            ]
          },
          "metadata": {
            "tags": []
          },
          "execution_count": 24
        }
      ]
    },
    {
      "cell_type": "code",
      "metadata": {
        "colab": {
          "base_uri": "https://localhost:8080/"
        },
        "id": "NOn2DeBYOiQI",
        "outputId": "939fb1cc-935a-4661-806c-c1fcdfcc0622"
      },
      "source": [
        "prediction = model.predict((np.array([[90, 40, 40, 20, 80, 7, 200]])))\n",
        "print(\"Suitable Crop is\", prediction)"
      ],
      "execution_count": 26,
      "outputs": [
        {
          "output_type": "stream",
          "text": [
            "Suitable Crop is ['rice']\n"
          ],
          "name": "stdout"
        }
      ]
    },
    {
      "cell_type": "code",
      "metadata": {
        "colab": {
          "base_uri": "https://localhost:8080/",
          "height": 204
        },
        "id": "4sCb63l3O2e2",
        "outputId": "2566ef67-52e4-46a6-ab9e-e8a14ab4938c"
      },
      "source": [
        "data[data['label'] == 'orange'].head()"
      ],
      "execution_count": 27,
      "outputs": [
        {
          "output_type": "execute_result",
          "data": {
            "text/html": [
              "<div>\n",
              "<style scoped>\n",
              "    .dataframe tbody tr th:only-of-type {\n",
              "        vertical-align: middle;\n",
              "    }\n",
              "\n",
              "    .dataframe tbody tr th {\n",
              "        vertical-align: top;\n",
              "    }\n",
              "\n",
              "    .dataframe thead th {\n",
              "        text-align: right;\n",
              "    }\n",
              "</style>\n",
              "<table border=\"1\" class=\"dataframe\">\n",
              "  <thead>\n",
              "    <tr style=\"text-align: right;\">\n",
              "      <th></th>\n",
              "      <th>N</th>\n",
              "      <th>P</th>\n",
              "      <th>K</th>\n",
              "      <th>temperature</th>\n",
              "      <th>humidity</th>\n",
              "      <th>ph</th>\n",
              "      <th>rainfall</th>\n",
              "      <th>label</th>\n",
              "    </tr>\n",
              "  </thead>\n",
              "  <tbody>\n",
              "    <tr>\n",
              "      <th>1600</th>\n",
              "      <td>22</td>\n",
              "      <td>30</td>\n",
              "      <td>12</td>\n",
              "      <td>15.781442</td>\n",
              "      <td>92.510777</td>\n",
              "      <td>6.354007</td>\n",
              "      <td>119.035002</td>\n",
              "      <td>orange</td>\n",
              "    </tr>\n",
              "    <tr>\n",
              "      <th>1601</th>\n",
              "      <td>37</td>\n",
              "      <td>6</td>\n",
              "      <td>13</td>\n",
              "      <td>26.030973</td>\n",
              "      <td>91.508193</td>\n",
              "      <td>7.511755</td>\n",
              "      <td>101.284774</td>\n",
              "      <td>orange</td>\n",
              "    </tr>\n",
              "    <tr>\n",
              "      <th>1602</th>\n",
              "      <td>27</td>\n",
              "      <td>13</td>\n",
              "      <td>6</td>\n",
              "      <td>13.360506</td>\n",
              "      <td>91.356082</td>\n",
              "      <td>7.335158</td>\n",
              "      <td>111.226688</td>\n",
              "      <td>orange</td>\n",
              "    </tr>\n",
              "    <tr>\n",
              "      <th>1603</th>\n",
              "      <td>7</td>\n",
              "      <td>16</td>\n",
              "      <td>9</td>\n",
              "      <td>18.879577</td>\n",
              "      <td>92.043045</td>\n",
              "      <td>7.813917</td>\n",
              "      <td>114.665951</td>\n",
              "      <td>orange</td>\n",
              "    </tr>\n",
              "    <tr>\n",
              "      <th>1604</th>\n",
              "      <td>20</td>\n",
              "      <td>7</td>\n",
              "      <td>9</td>\n",
              "      <td>29.477417</td>\n",
              "      <td>91.578029</td>\n",
              "      <td>7.129137</td>\n",
              "      <td>111.172750</td>\n",
              "      <td>orange</td>\n",
              "    </tr>\n",
              "  </tbody>\n",
              "</table>\n",
              "</div>"
            ],
            "text/plain": [
              "       N   P   K  temperature   humidity        ph    rainfall   label\n",
              "1600  22  30  12    15.781442  92.510777  6.354007  119.035002  orange\n",
              "1601  37   6  13    26.030973  91.508193  7.511755  101.284774  orange\n",
              "1602  27  13   6    13.360506  91.356082  7.335158  111.226688  orange\n",
              "1603   7  16   9    18.879577  92.043045  7.813917  114.665951  orange\n",
              "1604  20   7   9    29.477417  91.578029  7.129137  111.172750  orange"
            ]
          },
          "metadata": {
            "tags": []
          },
          "execution_count": 27
        }
      ]
    },
    {
      "cell_type": "code",
      "metadata": {
        "colab": {
          "base_uri": "https://localhost:8080/"
        },
        "id": "Pp4roTJhO_FS",
        "outputId": "317057ab-7f36-457c-8ae9-67f92c2e252d"
      },
      "source": [
        "prediction = model.predict((np.array([[20, 30, 10, 15, 90, 7.5, 100]])))\n",
        "print(\"Suitable Crop is\", prediction)"
      ],
      "execution_count": 28,
      "outputs": [
        {
          "output_type": "stream",
          "text": [
            "Suitable Crop is ['orange']\n"
          ],
          "name": "stdout"
        }
      ]
    }
  ]
}